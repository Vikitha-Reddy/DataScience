{
 "cells": [
  {
   "cell_type": "markdown",
   "id": "8349f811",
   "metadata": {},
   "source": [
    "# Statistics\n",
    "- Statistics is a mathematical science that includes the methods of collection, organization, and analysis of data. \n",
    "- But such analysis follows such a way that has meaningful conclusions followed by promising insight."
   ]
  },
  {
   "cell_type": "markdown",
   "id": "f691d371",
   "metadata": {},
   "source": [
    "# Descriptive Statistics \n",
    "- Analysis of the data that helps to describe, show and summarize data in a meaningful way using numerical calculations or    graphs or tables.\n",
    "- This type of stats is applied on already known data.\n",
    "- Helps to compute Summary of the data, can be of entire population or sample.\n",
    "- It has 2 types of measures.\n",
    "1. Central Tendency\n",
    "2. Measure of Variance\n",
    "\n",
    "## Central Tendency- Measures the central behavior of the data\n",
    "- Mean\n",
    "- Median\n",
    "- Mode\n",
    "- Helps to measure the central tendency of data\n",
    "\n",
    "## Measure of variance - describes the spread of the dataset\n",
    "- Standard Deviation.\n",
    "- Variance\n",
    "- Range\n",
    "- Interquantile Range"
   ]
  },
  {
   "cell_type": "markdown",
   "id": "9ae5c486",
   "metadata": {},
   "source": [
    "### Mean\n",
    "\n",
    "- Mean is Descriptive statistic method which measures the central point of the given data. \n",
    "- In simple terms, mean is nothing but average of the given data.\n",
    "- Ti is calculated by adding all the points within the data set and then dividing by the number of points within the set.\n",
    "##### Mean Formula:\n",
    "$$ \\bar{x} = \\frac{1}{n} \\sum_{i=i}^{n} x_{i} $$"
   ]
  },
  {
   "cell_type": "markdown",
   "id": "0f4951bd",
   "metadata": {},
   "source": [
    "- Let's calculate Mean for the dataset data.csv"
   ]
  },
  {
   "cell_type": "code",
   "execution_count": 2,
   "id": "4fab170d",
   "metadata": {},
   "outputs": [
    {
     "name": "stdout",
     "output_type": "stream",
     "text": [
      "Avg. Monthly Income 41558.0\n",
      "Avg. Monthly Expenditure 18818.0\n"
     ]
    }
   ],
   "source": [
    "import pandas as pd\n",
    "df = pd.read_csv('data.csv')\n",
    "print('Avg. Monthly Income',df['Mthly_HH_Income'].mean())\n",
    "print('Avg. Monthly Expenditure',df['Mthly_HH_Expense'].mean())"
   ]
  },
  {
   "cell_type": "markdown",
   "id": "a501ad54",
   "metadata": {},
   "source": [
    "### Median \n",
    "- The middle point of the given data.\n",
    "- Arrange the data points in the ascending order and look for the number in the middle."
   ]
  },
  {
   "cell_type": "code",
   "execution_count": 15,
   "id": "318adf22",
   "metadata": {},
   "outputs": [
    {
     "data": {
      "text/plain": [
       "35000.0"
      ]
     },
     "execution_count": 15,
     "metadata": {},
     "output_type": "execute_result"
    }
   ],
   "source": [
    "df['Mthly_HH_Income'].median()"
   ]
  },
  {
   "cell_type": "code",
   "execution_count": 16,
   "id": "30c071c1",
   "metadata": {},
   "outputs": [
    {
     "data": {
      "text/plain": [
       "15500.0"
      ]
     },
     "execution_count": 16,
     "metadata": {},
     "output_type": "execute_result"
    }
   ],
   "source": [
    "df['Mthly_HH_Expense'].median()"
   ]
  },
  {
   "cell_type": "markdown",
   "id": "c1235503",
   "metadata": {},
   "source": [
    "### Mode\n",
    "- Mode is just the most frequent response value. \n",
    "- Datasets may have any number of modes, including “zero.” \n",
    "- You can find the mode by arranging your dataset's order from the lowest to highest value and then looking for the most common response."
   ]
  },
  {
   "cell_type": "code",
   "execution_count": 9,
   "id": "5bee1e84",
   "metadata": {},
   "outputs": [
    {
     "data": {
      "text/plain": [
       "0    Graduate\n",
       "dtype: object"
      ]
     },
     "execution_count": 9,
     "metadata": {},
     "output_type": "execute_result"
    }
   ],
   "source": [
    "df['Highest_Qualified_Member'].mode()"
   ]
  },
  {
   "cell_type": "markdown",
   "id": "e38bce1c",
   "metadata": {},
   "source": [
    "- This indicates that there are highest number of graduates in the given dataset."
   ]
  },
  {
   "cell_type": "markdown",
   "id": "121f33fc",
   "metadata": {},
   "source": [
    "## Measure of variance - describes the spread of the dataset\n",
    "- Standard Deviation.\n",
    "- Variance"
   ]
  },
  {
   "cell_type": "markdown",
   "id": "b6fe6f5c",
   "metadata": {},
   "source": [
    "### Standard Deviation\n",
    "- SD is measue that shows average distance of a data point from the mean i.e, deviation of a point from the mean.\n",
    "- It says how much variation(spread,dispersion) from the mean exists.\n",
    "- Standard deviation is the square root of variance.\n",
    "- Formula:\n",
    "Standard deviation for a Population: $$ \\sigma = \\sqrt\\frac{\\sum_{i=i}^{n}(y_{i} - \\bar{y})^{2}}{N}  $$\n",
    "Standard deviation for a Sample: $$ \\sigma = \\sqrt\\frac{\\sum_{i=i}^{n}(y_{i} - \\bar{y})^{2}}{n-1}  $$"
   ]
  },
  {
   "cell_type": "markdown",
   "id": "bbec2007",
   "metadata": {},
   "source": [
    "### Variance\n",
    "- A measure of spread of values of a variable. A measure of dispersion.\n",
    "- Deviation of the data from the mean value.\n",
    "- The larger the variance, the further the individual cases are from the mean.\n",
    "- The smaller the variance, the closer the individual cases are from the mean."
   ]
  },
  {
   "cell_type": "markdown",
   "id": "d2ac12ed",
   "metadata": {},
   "source": [
    "Variance for a Population: $$ \\sigma^{2} = \\frac{Sum\\, of\\, Squares}{N} = \\frac{\\sum_{i=i}^{n}(y_{i} - \\bar{y})^{2}}{N} $$\n",
    "Variance for a Sample: $$ S^{2} = \\frac{Sum\\, of\\, Squares}{n-1} = \\frac{\\sum_{i=i}^{n}(y_{i} - \\bar{y})^{2}}{n-1} $$"
   ]
  },
  {
   "cell_type": "markdown",
   "id": "a4a0b6cc",
   "metadata": {},
   "source": [
    "### Correlation\n",
    "\n",
    "- Correlation is the best technique for measuring and also for estimating the quantitative relationship between two variables. Correlation is the statistical technique used to determine the degree to which 2 variables are related or associated.\n",
    "- Correlation measures the strength of linear relationship between two variables.\n",
    "\n",
    "- For example, height and weight are related; taller people tend to be heavier than shorter people.\n",
    "\n",
    "\n",
    "### correlation coefficient  /  pearson correlation coefficient (r)\n",
    "\n",
    "- It measures the nature and strength bewtween two variables. \n",
    "- Correlation is  calculated by using 'correlation coefficient'. It ranges between [-1,1]. Also called \"pearson correlation coefficient\".\n",
    "\n",
    "- If r = Zero this means no association or correlation between the two variables.\n",
    "- If 0 < r < 0.25 = weak correlation.\n",
    "- If 0.25 ≤ r < 0.75 = intermediate correlation.\n",
    "- If 0.75 ≤ r < 1 = strong correlation.\n",
    "- If r = l = perfect correlation.\n",
    "\n",
    "### Types of Correlation\n",
    "\n",
    "1. Positive Correlation – when the values of the two variables move in the same direction so that an increase/decrease in the value of one variable is followed by an increase/decrease in the value of the other variable.\n",
    "2. Negative Correlation – when the values of the two variables move in the opposite direction so that an increase/decrease in the value of one variable is followed by decrease/increase in the value of the other variable.\n",
    "3. No Correlation – when there is no linear dependence or no relation between the two variables.\n",
    "\n",
    "- A perfect positive correlation means that the correlation coefficient is exactly 1. i.e. linearly 2 variables move in same direction.\n",
    "- A perfect negative correlation means that two variables move in opposite directions.\n",
    "- A zero correlation implies no linear relationship at all.\n",
    "\n",
    "Pearson Correlation Coefficient (r) : $$ r = \\frac{\\sum{xy}-\\frac{\\sum{x}\\sum{y}}{n}}{\\sqrt{(\\sum{x}^2-\\frac{\\sum{x}^2}{n}).(\\sum{y}^2-\\frac{\\sum{y}^2}{n})}} $$"
   ]
  },
  {
   "cell_type": "markdown",
   "id": "a3f3f92e",
   "metadata": {},
   "source": [
    "# Normal Distribution\n",
    "- The Normal distribution also known as Gaussian distribution is a probability di 50% stribution which is symmetrical about the mean. \n",
    "- In Perfect Normal distribution, mean is 0 and standard deviation is 1.\n",
    "- In graphical form, the normal distribution appears as a \"bell curve\". 50% of data exists is present if right of mean and 50% on left side of mean i.e., Symmetrical.\n",
    "- Ex : Age of people, height of people, Income etc\n",
    "- Normal distributions are symmetrical, but not all symmetrical distributions are normal.\n",
    "\n",
    "### The Empirical Rule\n",
    "\n",
    "- For all normal distributions, 68.2% of the observations will appear within plus or minus one standard deviation of the mean; 95.4% of the observations will fall within +/- two standard deviations; and 99.7% within +/- three standard deviations.\n",
    "- This means data outside 3 std is cosidered as outliers."
   ]
  },
  {
   "cell_type": "code",
   "execution_count": 13,
   "id": "4890c516",
   "metadata": {},
   "outputs": [
    {
     "data": {
      "text/html": [
       "<img src=\"normal dist.png\" width=\"700\" height=\"900\"/>"
      ],
      "text/plain": [
       "<IPython.core.display.Image object>"
      ]
     },
     "execution_count": 13,
     "metadata": {},
     "output_type": "execute_result"
    }
   ],
   "source": [
    "from IPython.display import Image\n",
    "  \n",
    "# get the image\n",
    "Image(url=\"normal dist.png\", width=700, height=900)"
   ]
  },
  {
   "cell_type": "markdown",
   "id": "08381ed5",
   "metadata": {},
   "source": [
    "## Feature of Normal Distribution\n",
    "- The Mean is 0 and standard deviation is 1.\n",
    "- The mean, median, and mode are all equal.\n",
    "- The curve is known to be symmetric at the center, which is around the mean.\n",
    "- Exactly 1/2 of all the values are known to be to the left of center whereas exactly half of all the values are to the right of the center.\n",
    "- The total area under the curve is 1.\n",
    "- It has 0 skewness."
   ]
  },
  {
   "cell_type": "markdown",
   "id": "af1d05f4",
   "metadata": {},
   "source": [
    "# Positively Skewed & Negatively Skewed Normal Distribution"
   ]
  },
  {
   "cell_type": "markdown",
   "id": "5c0a44c5",
   "metadata": {},
   "source": [
    "## Skewness - Measure of asymmetry.\n",
    "1. Positively skewed/ right skewed-  A right-skewed distribution has longer tail on its right side.\n",
    "2. Negetively skewed/ left skewed-  A left-skewed distribution has longer tail on its left side.\n",
    "3. Zero skew - Tt is symmetrical. Its left and right sides are mirror images. Normal distribbution has 0 skewness."
   ]
  },
  {
   "cell_type": "markdown",
   "id": "d023c6dd",
   "metadata": {},
   "source": [
    "## How to calculate skewness?\n",
    "Pearson’s median skewness  = $$ 3\\times\\dfrac{({Mean}-{Median})}{{Standard\\,\\,deviation}} $$"
   ]
  },
  {
   "cell_type": "code",
   "execution_count": 19,
   "id": "ce7127ea",
   "metadata": {},
   "outputs": [
    {
     "data": {
      "text/html": [
       "<img src=\"Skewness-distribution.png\" width=\"700\" height=\"900\"/>"
      ],
      "text/plain": [
       "<IPython.core.display.Image object>"
      ]
     },
     "execution_count": 19,
     "metadata": {},
     "output_type": "execute_result"
    }
   ],
   "source": [
    "from IPython.display import Image\n",
    "Image(url=\"Skewness-distribution.png\", width=700, height=900)"
   ]
  },
  {
   "cell_type": "markdown",
   "id": "31a47884",
   "metadata": {},
   "source": [
    "## Effect on Mean, Median and Mode due to Skewness\n",
    "\n",
    "- Postively skewed data has Mode < Median < Mean\n",
    "- For Negetively skewed data : Mode > Median > Mean\n",
    "- Symmetrical :  Mode = Median = Mean"
   ]
  },
  {
   "cell_type": "markdown",
   "id": "c0699e00",
   "metadata": {},
   "source": [
    "## Explain QQ Plot and show the implementation of the same\n",
    "- QQ plot (quantile-quantile plot) graphically analyze and compare two probability distributions by plotting their quantiles against each other.\n",
    "- It helps to determine if 2 samples of data are from same popuation or not.\n",
    "\n",
    "#### Usage:\n",
    "\n",
    "- Determine whether two samples are from the same population.\n",
    "- Whether two samples have the same tail\n",
    "- Whether two samples have the same distribution shape.\n",
    "- Whether two samples have common location behavior."
   ]
  },
  {
   "cell_type": "markdown",
   "id": "ad9cdc88",
   "metadata": {},
   "source": [
    "- We plot the theoretical quantiles (a normal distribution with mean=0 and standard deviation=1)on the x-axis and the ordered values for the random variable which we want to find whether it is Gaussian distributed or not, on the y-axis. \n",
    "- It gives straight line like structure from each point plotted on the graph.\n",
    "- If the points at the ends of the curve formed from the points are not falling on a straight line but indeed are scattered significantly from the positions then we cannot conclude a relationship between the x and y axes which clearly signifies that our ordered values which we wanted to calculate are not Normally distributed.\n",
    "- If all the points plotted on the graph perfectly lies on a straight line then we can clearly say that this distribution is Normally distribution."
   ]
  },
  {
   "cell_type": "code",
   "execution_count": 30,
   "id": "0ba32bb0",
   "metadata": {},
   "outputs": [
    {
     "data": {
      "text/html": [
       "<img src=\"Q-Q-plot.png\" width=\"700\" height=\"500\"/>"
      ],
      "text/plain": [
       "<IPython.core.display.Image object>"
      ]
     },
     "execution_count": 30,
     "metadata": {},
     "output_type": "execute_result"
    }
   ],
   "source": [
    "Image(url=\"Q-Q-plot.png\", width=700, height=500)"
   ]
  },
  {
   "cell_type": "markdown",
   "id": "103c1bdd",
   "metadata": {},
   "source": [
    "#### Skewed Q-Q plots\n",
    "- Q-Q plots are also used to find the Skewness.\n",
    "- If the bottom end of the Q-Q plot deviates from the straight line but the upper end is not, then we can clearly say that the distribution has a longer tail to its left or simply it is left-skewed (or negatively skewed) but when we see the upper end of the Q-Q plot to deviate from the straight line and the lower and follows a straight line then the curve has a longer till to its right and it is right-skewed (or positively skewed)."
   ]
  },
  {
   "cell_type": "code",
   "execution_count": 24,
   "id": "a2358ff0",
   "metadata": {},
   "outputs": [
    {
     "data": {
      "text/html": [
       "<img src=\"Left-skewed-QQ-plot.png\" width=\"700\" height=\"500\"/>"
      ],
      "text/plain": [
       "<IPython.core.display.Image object>"
      ]
     },
     "execution_count": 24,
     "metadata": {},
     "output_type": "execute_result"
    }
   ],
   "source": [
    "Image(url=\"Left-skewed-QQ-plot.png\", width=700, height=500)"
   ]
  },
  {
   "cell_type": "code",
   "execution_count": 26,
   "id": "d1e083a5",
   "metadata": {},
   "outputs": [
    {
     "data": {
      "text/html": [
       "<img src=\"right-skewed-QQ-plot.png\" width=\"700\" height=\"500\"/>"
      ],
      "text/plain": [
       "<IPython.core.display.Image object>"
      ]
     },
     "execution_count": 26,
     "metadata": {},
     "output_type": "execute_result"
    }
   ],
   "source": [
    "Image(url=\"right-skewed-QQ-plot.png\", width=700, height=500)"
   ]
  },
  {
   "cell_type": "code",
   "execution_count": 35,
   "id": "38660a1f",
   "metadata": {},
   "outputs": [
    {
     "data": {
      "image/png": "[encoded data removed]",
      "text/plain": [
       "<Figure size 432x288 with 1 Axes>"
      ]
     },
     "metadata": {
      "needs_background": "light"
     },
     "output_type": "display_data"
    }
   ],
   "source": [
    "# code\n",
    "import scipy.stats as stats\n",
    "import numpy as np\n",
    "import matplotlib.pyplot as plt\n",
    "%matplotlib inline\n",
    "\n",
    "stats.probplot(df.No_of_Earning_Members, dist=\"norm\", plot=plt)\n",
    "plt.title(\"Normal Q-Q plot\")\n",
    "plt.show()\n"
   ]
  },
  {
   "cell_type": "code",
   "execution_count": 36,
   "id": "41d5f0e5",
   "metadata": {},
   "outputs": [
    {
     "data": {
      "image/png": "[encoded data removed]",
      "text/plain": [
       "<Figure size 432x288 with 1 Axes>"
      ]
     },
     "execution_count": 36,
     "metadata": {},
     "output_type": "execute_result"
    },
    {
     "data": {
      "image/png": "[encoded data removed]",
      "text/plain": [
       "<Figure size 432x288 with 1 Axes>"
      ]
     },
     "metadata": {
      "needs_background": "light"
     },
     "output_type": "display_data"
    }
   ],
   "source": [
    "## Implementation\n",
    " \n",
    "import statsmodels.api as sm\n",
    "sm.qqplot(df.Emi_or_Rent_Amt, line ='45')"
   ]
  },
  {
   "cell_type": "markdown",
   "id": "2ee20785",
   "metadata": {},
   "source": [
    "- The above plots show that data doesn't follow normal distribution as points doesn't lie on the same line."
   ]
  },
  {
   "cell_type": "markdown",
   "id": "84079fe7",
   "metadata": {},
   "source": [
    "## Explain Box Cox and show the implementation of the same\n",
    "- A box-cox transformation is a commonly used method for transforming a non-normally distributed dataset into a more normally distributed one.\n",
    "- It helps to reduce skewness in the data.\n",
    "- $ y(λ) = \\frac{yλ – 1}{λ} if y ≠ 0 $\n",
    "- y(λ) = log(y)  if y = 0\n",
    "\n",
    "- We can perform a box-cox transformation in Python by using the scipy.stats.boxcox() function."
   ]
  },
  {
   "cell_type": "code",
   "execution_count": 37,
   "id": "a5f05820",
   "metadata": {},
   "outputs": [
    {
     "data": {
      "text/plain": [
       "Index(['Mthly_HH_Income', 'Mthly_HH_Expense', 'No_of_Fly_Members',\n",
       "       'Emi_or_Rent_Amt', 'Annual_HH_Income', 'Highest_Qualified_Member',\n",
       "       'No_of_Earning_Members'],\n",
       "      dtype='object')"
      ]
     },
     "execution_count": 37,
     "metadata": {},
     "output_type": "execute_result"
    }
   ],
   "source": [
    "df.columns"
   ]
  },
  {
   "cell_type": "code",
   "execution_count": 50,
   "id": "a4adb140",
   "metadata": {},
   "outputs": [
    {
     "data": {
      "text/plain": [
       "Mthly_HH_Income          0.924615\n",
       "Mthly_HH_Expense         1.199461\n",
       "No_of_Fly_Members        0.113674\n",
       "Emi_or_Rent_Amt          3.403680\n",
       "Annual_HH_Income         1.192949\n",
       "No_of_Earning_Members    1.593301\n",
       "dtype: float64"
      ]
     },
     "execution_count": 50,
     "metadata": {},
     "output_type": "execute_result"
    }
   ],
   "source": [
    "# Let's check skewness for df\n",
    "df.skew()"
   ]
  },
  {
   "cell_type": "code",
   "execution_count": 56,
   "id": "14ee5fcb",
   "metadata": {},
   "outputs": [
    {
     "data": {
      "text/plain": [
       "<AxesSubplot:xlabel='Mthly_HH_Expense', ylabel='Density'>"
      ]
     },
     "execution_count": 56,
     "metadata": {},
     "output_type": "execute_result"
    },
    {
     "data": {
      "image/png": "[encoded data removed]",
      "text/plain": [
       "<Figure size 432x288 with 1 Axes>"
      ]
     },
     "metadata": {
      "needs_background": "light"
     },
     "output_type": "display_data"
    }
   ],
   "source": [
    "# All are positively skewed.\n",
    "# Let's plot and check for Mthly_HH_Expense column\n",
    "import seaborn as sns\n",
    "sns.kdeplot(df['Mthly_HH_Expense'])"
   ]
  },
  {
   "cell_type": "markdown",
   "id": "d6d16cd5",
   "metadata": {},
   "source": [
    "- We can see graph is not normally distributed. The tail towards right is bigger hence it's positively skewed data."
   ]
  },
  {
   "cell_type": "markdown",
   "id": "1ab50deb",
   "metadata": {},
   "source": [
    "- Reduce the skewness and tranforn it to more normally distributed one using box-cox transformation."
   ]
  },
  {
   "cell_type": "code",
   "execution_count": 54,
   "id": "3a101ea9",
   "metadata": {},
   "outputs": [
    {
     "name": "stdout",
     "output_type": "stream",
     "text": [
      "-0.0030639587875348285\n"
     ]
    }
   ],
   "source": [
    "from scipy import stats\n",
    "\n",
    "Mthly_HH_Expense_box , bestlambda = stats.boxcox(df['Mthly_HH_Expense'])\n",
    "\n",
    "# # Annual_HH_Income_box is a list convert it to Series\n",
    "# print(type(Emi_or_Rent_Amt_box))\n",
    "\n",
    "Mthly_HH_Expense_box_se = pd.Series(Mthly_HH_Expense_box)\n",
    "print(Mthly_HH_Expense_box_se.skew())"
   ]
  },
  {
   "cell_type": "code",
   "execution_count": 58,
   "id": "456fc184",
   "metadata": {},
   "outputs": [
    {
     "data": {
      "text/plain": [
       "<AxesSubplot:ylabel='Density'>"
      ]
     },
     "execution_count": 58,
     "metadata": {},
     "output_type": "execute_result"
    },
    {
     "data": {
      "image/png": "[encoded data removed]",
      "text/plain": [
       "<Figure size 432x288 with 1 Axes>"
      ]
     },
     "metadata": {
      "needs_background": "light"
     },
     "output_type": "display_data"
    }
   ],
   "source": [
    "sns.kdeplot(Mthly_HH_Expense_box_se)"
   ]
  },
  {
   "cell_type": "code",
   "execution_count": null,
   "id": "dc2b18ee",
   "metadata": {},
   "outputs": [],
   "source": [
    "- We can see df['Mthly_HH_Expense'] is more normally distrib"
   ]
  },
  {
   "cell_type": "markdown",
   "id": "65923a8c",
   "metadata": {},
   "source": [
    "### Write a Jupyter Notebook explaining all the Descriptive Statistics. \n",
    "- Mean\n",
    "- Median\n",
    "- Mode\n",
    "- Variance\n",
    "- Standard Deviation\n",
    "- Correlation\n",
    "- Normal Distribution (use references)\n",
    "- Feature of Normal Distribution\n",
    "- Positively Skewed & Negatively Skewed Normal Distribution\n",
    "- Effect on Mean, Median and Mode due to Skewness\n",
    "- Explain QQ Plot and show the implementation of the same\n",
    "- Explain Box Cox and show the implementation of the same"
   ]
  },
  {
   "cell_type": "code",
   "execution_count": null,
   "id": "14a76e3e",
   "metadata": {},
   "outputs": [],
   "source": []
  }
 ],
 "metadata": {
  "kernelspec": {
   "display_name": "Python 3",
   "language": "python",
   "name": "python3"
  },
  "language_info": {
   "codemirror_mode": {
    "name": "ipython",
    "version": 3
   },
   "file_extension": ".py",
   "mimetype": "text/x-python",
   "name": "python",
   "nbconvert_exporter": "python",
   "pygments_lexer": "ipython3",
   "version": "3.8.8"
  }
 },
 "nbformat": 4,
 "nbformat_minor": 5
}
