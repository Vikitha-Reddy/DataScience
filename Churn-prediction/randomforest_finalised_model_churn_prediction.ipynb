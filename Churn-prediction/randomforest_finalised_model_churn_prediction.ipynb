{
 "cells": [
  {
   "cell_type": "markdown",
   "id": "1c834163",
   "metadata": {},
   "source": [
    "# Importing all the required libraries"
   ]
  },
  {
   "cell_type": "code",
   "execution_count": 1,
   "id": "3fa0808c",
   "metadata": {},
   "outputs": [],
   "source": [
    "import pandas as pd\n",
    "import numpy as np\n",
    "import matplotlib.pyplot as plt\n",
    "import seaborn as sns\n",
    "\n",
    "import warnings\n",
    "warnings.filterwarnings('ignore')\n",
    "\n",
    "from sklearn.preprocessing import StandardScaler\n",
    "from sklearn.linear_model import LogisticRegression\n",
    "from sklearn.tree import DecisionTreeClassifier\n",
    "from sklearn.ensemble import RandomForestClassifier\n",
    "from sklearn.metrics import accuracy_score, classification_report,f1_score,confusion_matrix\n",
    "from sklearn.model_selection import GridSearchCV\n",
    "from sklearn.utils import resample\n",
    "from sklearn.model_selection import train_test_split\n",
    "from imblearn.over_sampling import SMOTE\n",
    "from collections import Counter"
   ]
  },
  {
   "cell_type": "code",
   "execution_count": 2,
   "id": "dbf28461",
   "metadata": {},
   "outputs": [],
   "source": [
    "# Reading and extracting train.csv and test.csv files usind pandas. .csv files are now pandas dataframes\n",
    "\n",
    "train = pd.read_csv(\"C:/Users/Vikitha Reddy/Downloads/train_PDjVQMB (1).csv\")\n",
    "test =pd.read_csv(\"C:/Users/Vikitha Reddy/Downloads/test_lTY72QC (1).csv\")"
   ]
  },
  {
   "cell_type": "code",
   "execution_count": 3,
   "id": "d11d59e6",
   "metadata": {},
   "outputs": [
    {
     "data": {
      "text/html": [
       "<div>\n",
       "<style scoped>\n",
       "    .dataframe tbody tr th:only-of-type {\n",
       "        vertical-align: middle;\n",
       "    }\n",
       "\n",
       "    .dataframe tbody tr th {\n",
       "        vertical-align: top;\n",
       "    }\n",
       "\n",
       "    .dataframe thead th {\n",
       "        text-align: right;\n",
       "    }\n",
       "</style>\n",
       "<table border=\"1\" class=\"dataframe\">\n",
       "  <thead>\n",
       "    <tr style=\"text-align: right;\">\n",
       "      <th></th>\n",
       "      <th>ID</th>\n",
       "      <th>Age</th>\n",
       "      <th>Gender</th>\n",
       "      <th>Income</th>\n",
       "      <th>Balance</th>\n",
       "      <th>Vintage</th>\n",
       "      <th>Transaction_Status</th>\n",
       "      <th>Product_Holdings</th>\n",
       "      <th>Credit_Card</th>\n",
       "      <th>Credit_Category</th>\n",
       "      <th>Is_Churn</th>\n",
       "    </tr>\n",
       "  </thead>\n",
       "  <tbody>\n",
       "    <tr>\n",
       "      <th>0</th>\n",
       "      <td>84e2fcc9</td>\n",
       "      <td>36</td>\n",
       "      <td>Female</td>\n",
       "      <td>5L - 10L</td>\n",
       "      <td>563266.44</td>\n",
       "      <td>4</td>\n",
       "      <td>0</td>\n",
       "      <td>1</td>\n",
       "      <td>0</td>\n",
       "      <td>Average</td>\n",
       "      <td>1</td>\n",
       "    </tr>\n",
       "    <tr>\n",
       "      <th>1</th>\n",
       "      <td>57fea15e</td>\n",
       "      <td>53</td>\n",
       "      <td>Female</td>\n",
       "      <td>Less than 5L</td>\n",
       "      <td>875572.11</td>\n",
       "      <td>2</td>\n",
       "      <td>1</td>\n",
       "      <td>1</td>\n",
       "      <td>1</td>\n",
       "      <td>Poor</td>\n",
       "      <td>0</td>\n",
       "    </tr>\n",
       "    <tr>\n",
       "      <th>2</th>\n",
       "      <td>8df34ef3</td>\n",
       "      <td>35</td>\n",
       "      <td>Female</td>\n",
       "      <td>More than 15L</td>\n",
       "      <td>701607.06</td>\n",
       "      <td>2</td>\n",
       "      <td>1</td>\n",
       "      <td>2</td>\n",
       "      <td>0</td>\n",
       "      <td>Poor</td>\n",
       "      <td>0</td>\n",
       "    </tr>\n",
       "    <tr>\n",
       "      <th>3</th>\n",
       "      <td>c5c0788b</td>\n",
       "      <td>43</td>\n",
       "      <td>Female</td>\n",
       "      <td>More than 15L</td>\n",
       "      <td>1393922.16</td>\n",
       "      <td>0</td>\n",
       "      <td>1</td>\n",
       "      <td>2</td>\n",
       "      <td>1</td>\n",
       "      <td>Poor</td>\n",
       "      <td>1</td>\n",
       "    </tr>\n",
       "    <tr>\n",
       "      <th>4</th>\n",
       "      <td>951d69c4</td>\n",
       "      <td>39</td>\n",
       "      <td>Female</td>\n",
       "      <td>More than 15L</td>\n",
       "      <td>893146.23</td>\n",
       "      <td>1</td>\n",
       "      <td>1</td>\n",
       "      <td>1</td>\n",
       "      <td>1</td>\n",
       "      <td>Good</td>\n",
       "      <td>1</td>\n",
       "    </tr>\n",
       "  </tbody>\n",
       "</table>\n",
       "</div>"
      ],
      "text/plain": [
       "         ID  Age  Gender         Income     Balance  Vintage  \\\n",
       "0  84e2fcc9   36  Female       5L - 10L   563266.44        4   \n",
       "1  57fea15e   53  Female   Less than 5L   875572.11        2   \n",
       "2  8df34ef3   35  Female  More than 15L   701607.06        2   \n",
       "3  c5c0788b   43  Female  More than 15L  1393922.16        0   \n",
       "4  951d69c4   39  Female  More than 15L   893146.23        1   \n",
       "\n",
       "   Transaction_Status Product_Holdings  Credit_Card Credit_Category  Is_Churn  \n",
       "0                   0                1            0         Average         1  \n",
       "1                   1                1            1            Poor         0  \n",
       "2                   1                2            0            Poor         0  \n",
       "3                   1                2            1            Poor         1  \n",
       "4                   1                1            1            Good         1  "
      ]
     },
     "execution_count": 3,
     "metadata": {},
     "output_type": "execute_result"
    }
   ],
   "source": [
    "# printing the top 5 rows\n",
    "\n",
    "train.head()"
   ]
  },
  {
   "cell_type": "markdown",
   "id": "db7d4a3b",
   "metadata": {},
   "source": [
    "# Exploratory Data Analysis and Visualization"
   ]
  },
  {
   "cell_type": "code",
   "execution_count": 4,
   "id": "ca2c5a0f",
   "metadata": {},
   "outputs": [
    {
     "data": {
      "text/plain": [
       "0     956\n",
       "1    1354\n",
       "2    1328\n",
       "3    1405\n",
       "4    1296\n",
       "5     311\n",
       "Name: Vintage, dtype: int64"
      ]
     },
     "execution_count": 4,
     "metadata": {},
     "output_type": "execute_result"
    }
   ],
   "source": [
    "# value_counts gives the count of all resprctive values of 'Vintage' feature\n",
    "\n",
    "train['Vintage'].value_counts().sort_index()"
   ]
  },
  {
   "cell_type": "code",
   "execution_count": 5,
   "id": "72100216",
   "metadata": {},
   "outputs": [
    {
     "data": {
      "text/plain": [
       "<AxesSubplot:xlabel='Vintage', ylabel='Is_Churn'>"
      ]
     },
     "execution_count": 5,
     "metadata": {},
     "output_type": "execute_result"
    },
    {
     "data": {
      "image/png": "[encoded data removed]",
      "text/plain": [
       "<Figure size 432x288 with 1 Axes>"
      ]
     },
     "metadata": {
      "needs_background": "light"
     },
     "output_type": "display_data"
    }
   ],
   "source": [
    "# barplot gives visualization of all values of Vintage feature againg target\n",
    "\n",
    "sns.barplot(x='Vintage',y='Is_Churn',data=train)"
   ]
  },
  {
   "cell_type": "code",
   "execution_count": 6,
   "id": "2e3208ed",
   "metadata": {},
   "outputs": [
    {
     "data": {
      "text/plain": [
       "<AxesSubplot:xlabel='Credit_Category', ylabel='Is_Churn'>"
      ]
     },
     "execution_count": 6,
     "metadata": {},
     "output_type": "execute_result"
    },
    {
     "data": {
      "image/png": "[encoded data removed]",
      "text/plain": [
       "<Figure size 432x288 with 1 Axes>"
      ]
     },
     "metadata": {
      "needs_background": "light"
     },
     "output_type": "display_data"
    }
   ],
   "source": [
    "# Credit_Category vs Is_churn(target)\n",
    "\n",
    "sns.barplot(x='Credit_Category',y='Is_Churn',data=train)"
   ]
  },
  {
   "cell_type": "code",
   "execution_count": 7,
   "id": "542595f2",
   "metadata": {},
   "outputs": [
    {
     "data": {
      "text/plain": [
       "<AxesSubplot:xlabel='Is_Churn', ylabel='Credit_Card'>"
      ]
     },
     "execution_count": 7,
     "metadata": {},
     "output_type": "execute_result"
    },
    {
     "data": {
      "image/png": "[encoded data removed]",
      "text/plain": [
       "<Figure size 432x288 with 1 Axes>"
      ]
     },
     "metadata": {
      "needs_background": "light"
     },
     "output_type": "display_data"
    }
   ],
   "source": [
    "sns.barplot(x='Is_Churn',y='Credit_Card',data=train)"
   ]
  },
  {
   "cell_type": "code",
   "execution_count": 8,
   "id": "3856a610",
   "metadata": {},
   "outputs": [
    {
     "data": {
      "text/plain": [
       "<AxesSubplot:xlabel='Product_Holdings', ylabel='Is_Churn'>"
      ]
     },
     "execution_count": 8,
     "metadata": {},
     "output_type": "execute_result"
    },
    {
     "data": {
      "image/png": "[encoded data removed]",
      "text/plain": [
       "<Figure size 432x288 with 1 Axes>"
      ]
     },
     "metadata": {
      "needs_background": "light"
     },
     "output_type": "display_data"
    }
   ],
   "source": [
    "sns.barplot(x='Product_Holdings',y='Is_Churn',data=train)"
   ]
  },
  {
   "cell_type": "code",
   "execution_count": 9,
   "id": "6808b0ef",
   "metadata": {},
   "outputs": [
    {
     "data": {
      "text/plain": [
       "<AxesSubplot:xlabel='Income', ylabel='Is_Churn'>"
      ]
     },
     "execution_count": 9,
     "metadata": {},
     "output_type": "execute_result"
    },
    {
     "data": {
      "image/png": "[encoded data removed]",
      "text/plain": [
       "<Figure size 432x288 with 1 Axes>"
      ]
     },
     "metadata": {
      "needs_background": "light"
     },
     "output_type": "display_data"
    }
   ],
   "source": [
    "sns.barplot(x='Income',y='Is_Churn',data=train)"
   ]
  },
  {
   "cell_type": "code",
   "execution_count": 10,
   "id": "ae32d5a2",
   "metadata": {},
   "outputs": [
    {
     "data": {
      "text/plain": [
       "<AxesSubplot:xlabel='Gender', ylabel='Is_Churn'>"
      ]
     },
     "execution_count": 10,
     "metadata": {},
     "output_type": "execute_result"
    },
    {
     "data": {
      "image/png": "[encoded data removed]",
      "text/plain": [
       "<Figure size 432x288 with 1 Axes>"
      ]
     },
     "metadata": {
      "needs_background": "light"
     },
     "output_type": "display_data"
    }
   ],
   "source": [
    "# Let's see the percentage of Male and Female having target 0/1\n",
    "\n",
    "sns.barplot(x='Gender',y='Is_Churn',data=train)"
   ]
  },
  {
   "cell_type": "code",
   "execution_count": 11,
   "id": "613668e2",
   "metadata": {},
   "outputs": [
    {
     "data": {
      "text/plain": [
       "(6650, 11)"
      ]
     },
     "execution_count": 11,
     "metadata": {},
     "output_type": "execute_result"
    }
   ],
   "source": [
    "# Gives the count of total number of rows and columns\n",
    "train.shape"
   ]
  },
  {
   "cell_type": "code",
   "execution_count": 12,
   "id": "714a52e3",
   "metadata": {},
   "outputs": [],
   "source": [
    "# Let's drop the ID column as the prediction never depend upon ID\n",
    "\n",
    "train.drop(['ID'],axis=1,inplace=True)"
   ]
  },
  {
   "cell_type": "code",
   "execution_count": 13,
   "id": "56ded4d6",
   "metadata": {},
   "outputs": [
    {
     "data": {
      "text/html": [
       "<div>\n",
       "<style scoped>\n",
       "    .dataframe tbody tr th:only-of-type {\n",
       "        vertical-align: middle;\n",
       "    }\n",
       "\n",
       "    .dataframe tbody tr th {\n",
       "        vertical-align: top;\n",
       "    }\n",
       "\n",
       "    .dataframe thead th {\n",
       "        text-align: right;\n",
       "    }\n",
       "</style>\n",
       "<table border=\"1\" class=\"dataframe\">\n",
       "  <thead>\n",
       "    <tr style=\"text-align: right;\">\n",
       "      <th></th>\n",
       "      <th>Age</th>\n",
       "      <th>Balance</th>\n",
       "      <th>Vintage</th>\n",
       "      <th>Transaction_Status</th>\n",
       "      <th>Credit_Card</th>\n",
       "      <th>Is_Churn</th>\n",
       "    </tr>\n",
       "  </thead>\n",
       "  <tbody>\n",
       "    <tr>\n",
       "      <th>count</th>\n",
       "      <td>6650.000000</td>\n",
       "      <td>6.650000e+03</td>\n",
       "      <td>6650.000000</td>\n",
       "      <td>6650.000000</td>\n",
       "      <td>6650.000000</td>\n",
       "      <td>6650.000000</td>\n",
       "    </tr>\n",
       "    <tr>\n",
       "      <th>mean</th>\n",
       "      <td>41.130226</td>\n",
       "      <td>8.045954e+05</td>\n",
       "      <td>2.250226</td>\n",
       "      <td>0.515789</td>\n",
       "      <td>0.664361</td>\n",
       "      <td>0.231128</td>\n",
       "    </tr>\n",
       "    <tr>\n",
       "      <th>std</th>\n",
       "      <td>9.685747</td>\n",
       "      <td>5.157549e+05</td>\n",
       "      <td>1.458795</td>\n",
       "      <td>0.499788</td>\n",
       "      <td>0.472249</td>\n",
       "      <td>0.421586</td>\n",
       "    </tr>\n",
       "    <tr>\n",
       "      <th>min</th>\n",
       "      <td>21.000000</td>\n",
       "      <td>6.300000e+01</td>\n",
       "      <td>0.000000</td>\n",
       "      <td>0.000000</td>\n",
       "      <td>0.000000</td>\n",
       "      <td>0.000000</td>\n",
       "    </tr>\n",
       "    <tr>\n",
       "      <th>25%</th>\n",
       "      <td>34.000000</td>\n",
       "      <td>3.922642e+05</td>\n",
       "      <td>1.000000</td>\n",
       "      <td>0.000000</td>\n",
       "      <td>0.000000</td>\n",
       "      <td>0.000000</td>\n",
       "    </tr>\n",
       "    <tr>\n",
       "      <th>50%</th>\n",
       "      <td>40.000000</td>\n",
       "      <td>7.649386e+05</td>\n",
       "      <td>2.000000</td>\n",
       "      <td>1.000000</td>\n",
       "      <td>1.000000</td>\n",
       "      <td>0.000000</td>\n",
       "    </tr>\n",
       "    <tr>\n",
       "      <th>75%</th>\n",
       "      <td>47.000000</td>\n",
       "      <td>1.147124e+06</td>\n",
       "      <td>3.000000</td>\n",
       "      <td>1.000000</td>\n",
       "      <td>1.000000</td>\n",
       "      <td>0.000000</td>\n",
       "    </tr>\n",
       "    <tr>\n",
       "      <th>max</th>\n",
       "      <td>72.000000</td>\n",
       "      <td>2.436616e+06</td>\n",
       "      <td>5.000000</td>\n",
       "      <td>1.000000</td>\n",
       "      <td>1.000000</td>\n",
       "      <td>1.000000</td>\n",
       "    </tr>\n",
       "  </tbody>\n",
       "</table>\n",
       "</div>"
      ],
      "text/plain": [
       "               Age       Balance      Vintage  Transaction_Status  \\\n",
       "count  6650.000000  6.650000e+03  6650.000000         6650.000000   \n",
       "mean     41.130226  8.045954e+05     2.250226            0.515789   \n",
       "std       9.685747  5.157549e+05     1.458795            0.499788   \n",
       "min      21.000000  6.300000e+01     0.000000            0.000000   \n",
       "25%      34.000000  3.922642e+05     1.000000            0.000000   \n",
       "50%      40.000000  7.649386e+05     2.000000            1.000000   \n",
       "75%      47.000000  1.147124e+06     3.000000            1.000000   \n",
       "max      72.000000  2.436616e+06     5.000000            1.000000   \n",
       "\n",
       "       Credit_Card     Is_Churn  \n",
       "count  6650.000000  6650.000000  \n",
       "mean      0.664361     0.231128  \n",
       "std       0.472249     0.421586  \n",
       "min       0.000000     0.000000  \n",
       "25%       0.000000     0.000000  \n",
       "50%       1.000000     0.000000  \n",
       "75%       1.000000     0.000000  \n",
       "max       1.000000     1.000000  "
      ]
     },
     "execution_count": 13,
     "metadata": {},
     "output_type": "execute_result"
    }
   ],
   "source": [
    "# Gives the 5 number summary of the train dataset. It helps to find out if we're having any missing values. \n",
    "# If the difference between mean and median is statistically high, we can say there are outliers in the dataset.\n",
    "\n",
    "train.describe()"
   ]
  },
  {
   "cell_type": "code",
   "execution_count": 14,
   "id": "b5ddc214",
   "metadata": {},
   "outputs": [
    {
     "data": {
      "text/plain": [
       "Age                   0\n",
       "Gender                0\n",
       "Income                0\n",
       "Balance               0\n",
       "Vintage               0\n",
       "Transaction_Status    0\n",
       "Product_Holdings      0\n",
       "Credit_Card           0\n",
       "Credit_Category       0\n",
       "Is_Churn              0\n",
       "dtype: int64"
      ]
     },
     "execution_count": 14,
     "metadata": {},
     "output_type": "execute_result"
    }
   ],
   "source": [
    "# checks if there are any null values\n",
    "train.isnull().sum()"
   ]
  },
  {
   "cell_type": "code",
   "execution_count": 15,
   "id": "ba823b71",
   "metadata": {},
   "outputs": [
    {
     "data": {
      "text/plain": [
       "(6650, 10)"
      ]
     },
     "execution_count": 15,
     "metadata": {},
     "output_type": "execute_result"
    }
   ],
   "source": [
    "train.shape"
   ]
  },
  {
   "cell_type": "code",
   "execution_count": 16,
   "id": "037281d5",
   "metadata": {},
   "outputs": [
    {
     "data": {
      "text/plain": [
       "Age                     52\n",
       "Gender                   2\n",
       "Income                   4\n",
       "Balance               6643\n",
       "Vintage                  6\n",
       "Transaction_Status       2\n",
       "Product_Holdings         3\n",
       "Credit_Card              2\n",
       "Credit_Category          3\n",
       "Is_Churn                 2\n",
       "dtype: int64"
      ]
     },
     "execution_count": 16,
     "metadata": {},
     "output_type": "execute_result"
    }
   ],
   "source": [
    "train.nunique()"
   ]
  },
  {
   "cell_type": "markdown",
   "id": "0698ae4b",
   "metadata": {},
   "source": [
    "# Univariate and Bivariate Analysis"
   ]
  },
  {
   "cell_type": "code",
   "execution_count": 17,
   "id": "7c0c21ba",
   "metadata": {},
   "outputs": [
    {
     "data": {
      "image/png": "[encoded data removed]",
      "text/plain": [
       "<Figure size 432x288 with 1 Axes>"
      ]
     },
     "metadata": {},
     "output_type": "display_data"
    }
   ],
   "source": [
    "#No of exited vs Active  get the percentage split figure\n",
    "ExitedValues = train.Is_Churn.value_counts()\n",
    "labels = [\"Loyal Customer\",\"Churn Customers\"]\n",
    "colors = ['#66b3ff', '#ff9999']\n",
    "fig1, f1 = plt.subplots()\n",
    "f1.pie(ExitedValues,labels=labels, colors = colors, autopct='%1.1f%%',shadow=True, startangle=60) \n",
    "f1.axis('equal')\n",
    "plt.tight_layout()\n",
    "plt.show()"
   ]
  },
  {
   "cell_type": "code",
   "execution_count": 18,
   "id": "31c64f4b",
   "metadata": {},
   "outputs": [
    {
     "data": {
      "text/plain": [
       "<AxesSubplot:xlabel='Vintage'>"
      ]
     },
     "execution_count": 18,
     "metadata": {},
     "output_type": "execute_result"
    },
    {
     "data": {
      "image/png": "[encoded data removed]",
      "text/plain": [
       "<Figure size 432x288 with 1 Axes>"
      ]
     },
     "metadata": {
      "needs_background": "light"
     },
     "output_type": "display_data"
    }
   ],
   "source": [
    "# CreditScore\n",
    "sns.boxplot(train['Vintage'])"
   ]
  },
  {
   "cell_type": "code",
   "execution_count": 19,
   "id": "3c6b7eb8",
   "metadata": {},
   "outputs": [
    {
     "data": {
      "text/plain": [
       "(array([1151.,  876., 1117., 1139.,  942.,  655.,  416.,  214.,   81.,\n",
       "          59.]),\n",
       " array([6.30000000e+01, 2.43718281e+05, 4.87373562e+05, 7.31028843e+05,\n",
       "        9.74684124e+05, 1.21833941e+06, 1.46199469e+06, 1.70564997e+06,\n",
       "        1.94930525e+06, 2.19296053e+06, 2.43661581e+06]),\n",
       " <BarContainer object of 10 artists>)"
      ]
     },
     "execution_count": 19,
     "metadata": {},
     "output_type": "execute_result"
    },
    {
     "data": {
      "image/png": "[encoded data removed]",
      "text/plain": [
       "<Figure size 432x288 with 1 Axes>"
      ]
     },
     "metadata": {
      "needs_background": "light"
     },
     "output_type": "display_data"
    }
   ],
   "source": [
    "plt.hist(train['Balance'])"
   ]
  },
  {
   "cell_type": "code",
   "execution_count": 20,
   "id": "187bdadd",
   "metadata": {},
   "outputs": [
    {
     "data": {
      "image/png": "[encoded data removed]",
      "text/plain": [
       "<Figure size 432x288 with 1 Axes>"
      ]
     },
     "metadata": {},
     "output_type": "display_data"
    }
   ],
   "source": [
    "# this plot is to show how Income play a role at the customer churn stuff\n",
    "income = train.Income.value_counts()\n",
    "values  = train['Income'].value_counts().values.tolist()\n",
    "labels  = train['Income'].value_counts().keys().tolist()\n",
    "colors = ['#66b3ff', '#ff9999' , '#ffcc99','pink']\n",
    "fig2, f2 = plt.subplots()\n",
    "f2.pie(values,labels=labels, colors = colors, autopct='%1.1f%%',shadow=True, startangle=90) \n",
    "# Equal aspect ratio ensures that pie is drawn as a circle\n",
    "f2.axis('equal')\n",
    "plt.tight_layout()\n",
    "plt.show()"
   ]
  },
  {
   "cell_type": "code",
   "execution_count": 21,
   "id": "7a07bdb6",
   "metadata": {},
   "outputs": [
    {
     "data": {
      "image/png": "[encoded data removed]",
      "text/plain": [
       "<Figure size 432x288 with 1 Axes>"
      ]
     },
     "metadata": {},
     "output_type": "display_data"
    }
   ],
   "source": [
    "# this plot is to show how Gender play a role at the customer churn stuff\n",
    "Gendervalues  = train['Gender'].value_counts().values.tolist()\n",
    "GenderLabels = train['Gender'].value_counts().keys().tolist()\n",
    "colors = ['#66b3ff', '#ff9999']\n",
    "fig3, f3 = plt.subplots()\n",
    "f3.pie(Gendervalues,labels=GenderLabels, colors = colors, autopct='%1.1f%%',shadow=True, startangle= 80) \n",
    "# Equal aspect ratio ensures that pie is drawn as a circle\n",
    "f3.axis('equal')\n",
    "plt.tight_layout()\n",
    "plt.show()"
   ]
  },
  {
   "cell_type": "code",
   "execution_count": 22,
   "id": "390f464e",
   "metadata": {},
   "outputs": [
    {
     "data": {
      "image/png": "[encoded data removed]",
      "text/plain": [
       "<Figure size 432x288 with 1 Axes>"
      ]
     },
     "metadata": {},
     "output_type": "display_data"
    }
   ],
   "source": [
    " # this plot is to show how Product_Holdings split \n",
    "Product_Holdings_values  = train['Product_Holdings'].value_counts().values.tolist()\n",
    "Product_Holdings_labels  = train['Product_Holdings'].value_counts().keys().tolist()\n",
    "colors = ['#ff9999','#66b3ff','#99ff99','#ffcc99']\n",
    "fig4, f4 = plt.subplots()\n",
    "f4.pie(Product_Holdings_values ,labels=Product_Holdings_labels, colors = colors,autopct='%1.1f%%',shadow=True, startangle=60) \n",
    "f4.axis('equal')\n",
    "plt.tight_layout()\n",
    "plt.show()"
   ]
  },
  {
   "cell_type": "code",
   "execution_count": 23,
   "id": "97c4877c",
   "metadata": {},
   "outputs": [
    {
     "data": {
      "image/png": "[encoded data removed]",
      "text/plain": [
       "<Figure size 432x288 with 1 Axes>"
      ]
     },
     "metadata": {},
     "output_type": "display_data"
    }
   ],
   "source": [
    "# this plot is to show how Credit_Card play a role at the customer churn \n",
    "\n",
    "HasCardvalues  = train['Credit_Card'].value_counts().values.tolist()\n",
    "HasCardlabels  = [\"Customers Having Card\" , \"Customers not having card\"]\n",
    "colors = ['#99ff99','#ffcc99']\n",
    "fig5, f5 = plt.subplots()\n",
    "f5.pie(HasCardvalues ,labels=HasCardlabels, colors = colors,autopct='%1.1f%%',shadow=True, startangle=15) \n",
    "f5.axis('equal')\n",
    "plt.tight_layout()\n",
    "plt.show()\n"
   ]
  },
  {
   "cell_type": "code",
   "execution_count": 24,
   "id": "e84e5934",
   "metadata": {},
   "outputs": [
    {
     "data": {
      "image/png": "[encoded data removed]",
      "text/plain": [
       "<Figure size 432x288 with 1 Axes>"
      ]
     },
     "metadata": {},
     "output_type": "display_data"
    }
   ],
   "source": [
    " # this plot is to show how Credit_Category split \n",
    "Cr_cat_values  = train['Credit_Category'].value_counts().values.tolist()\n",
    "Cr_cat_labels  = train['Credit_Category'].value_counts().keys().tolist()\n",
    "colors = ['#ff9999','#66b3ff','#99ff99','#ffcc99']\n",
    "fig4, f4 = plt.subplots()\n",
    "f4.pie(Cr_cat_values ,labels=Cr_cat_labels, colors = colors,autopct='%1.1f%%',shadow=True, startangle=60) \n",
    "f4.axis('equal')\n",
    "plt.tight_layout()\n",
    "plt.show()"
   ]
  },
  {
   "cell_type": "markdown",
   "id": "8c887459",
   "metadata": {},
   "source": [
    "# Outlier Treatment (Feature Engineering)"
   ]
  },
  {
   "cell_type": "code",
   "execution_count": 25,
   "id": "4c60969a",
   "metadata": {},
   "outputs": [
    {
     "data": {
      "text/plain": [
       "<AxesSubplot:xlabel='Age'>"
      ]
     },
     "execution_count": 25,
     "metadata": {},
     "output_type": "execute_result"
    },
    {
     "data": {
      "image/png": "[encoded data removed]",
      "text/plain": [
       "<Figure size 432x288 with 1 Axes>"
      ]
     },
     "metadata": {
      "needs_background": "light"
     },
     "output_type": "display_data"
    }
   ],
   "source": [
    "# lets have the flot for customers based on their age \n",
    "sns.boxplot(train['Age'] , orient = \"v\")"
   ]
  },
  {
   "cell_type": "code",
   "execution_count": 26,
   "id": "6e159404",
   "metadata": {},
   "outputs": [],
   "source": [
    "# Here we can see there are outliers in the Age column. So let's do outlier treatment"
   ]
  },
  {
   "cell_type": "code",
   "execution_count": 27,
   "id": "d83e2694",
   "metadata": {},
   "outputs": [],
   "source": [
    "# Handling age column outliers\n",
    "train['Age'] = np.where(train['Age']>65, 65,\n",
    "                 np.where(train['Age']<20, 20, train['Age']))"
   ]
  },
  {
   "cell_type": "code",
   "execution_count": 28,
   "id": "3359c3da",
   "metadata": {},
   "outputs": [
    {
     "data": {
      "text/plain": [
       "<AxesSubplot:xlabel='Age'>"
      ]
     },
     "execution_count": 28,
     "metadata": {},
     "output_type": "execute_result"
    },
    {
     "data": {
      "image/png": "[encoded data removed]",
      "text/plain": [
       "<Figure size 432x288 with 1 Axes>"
      ]
     },
     "metadata": {
      "needs_background": "light"
     },
     "output_type": "display_data"
    }
   ],
   "source": [
    "# Outliers are removed from Age column\n",
    "\n",
    "sns.boxplot(train['Age'] , orient = \"v\")"
   ]
  },
  {
   "cell_type": "code",
   "execution_count": 29,
   "id": "158f0150",
   "metadata": {},
   "outputs": [
    {
     "data": {
      "text/plain": [
       "<seaborn.axisgrid.PairGrid at 0x25b1d80ed60>"
      ]
     },
     "execution_count": 29,
     "metadata": {},
     "output_type": "execute_result"
    },
    {
     "data": {
      "image/png": "[encoded data removed]",
      "text/plain": [
       "<Figure size 951.125x900 with 30 Axes>"
      ]
     },
     "metadata": {
      "needs_background": "light"
     },
     "output_type": "display_data"
    }
   ],
   "source": [
    "sns.pairplot(train, hue = 'Is_Churn')\n",
    "#please explain this, else remove"
   ]
  },
  {
   "cell_type": "code",
   "execution_count": 30,
   "id": "abba1565",
   "metadata": {},
   "outputs": [
    {
     "data": {
      "text/html": [
       "<div>\n",
       "<style scoped>\n",
       "    .dataframe tbody tr th:only-of-type {\n",
       "        vertical-align: middle;\n",
       "    }\n",
       "\n",
       "    .dataframe tbody tr th {\n",
       "        vertical-align: top;\n",
       "    }\n",
       "\n",
       "    .dataframe thead th {\n",
       "        text-align: right;\n",
       "    }\n",
       "</style>\n",
       "<table border=\"1\" class=\"dataframe\">\n",
       "  <thead>\n",
       "    <tr style=\"text-align: right;\">\n",
       "      <th></th>\n",
       "      <th>Age</th>\n",
       "      <th>Balance</th>\n",
       "      <th>Vintage</th>\n",
       "      <th>Transaction_Status</th>\n",
       "      <th>Credit_Card</th>\n",
       "      <th>Is_Churn</th>\n",
       "    </tr>\n",
       "  </thead>\n",
       "  <tbody>\n",
       "    <tr>\n",
       "      <th>Age</th>\n",
       "      <td>1.000000</td>\n",
       "      <td>0.001898</td>\n",
       "      <td>0.017697</td>\n",
       "      <td>0.031537</td>\n",
       "      <td>0.011874</td>\n",
       "      <td>0.204016</td>\n",
       "    </tr>\n",
       "    <tr>\n",
       "      <th>Balance</th>\n",
       "      <td>0.001898</td>\n",
       "      <td>1.000000</td>\n",
       "      <td>-0.019385</td>\n",
       "      <td>-0.005088</td>\n",
       "      <td>-0.025259</td>\n",
       "      <td>0.056380</td>\n",
       "    </tr>\n",
       "    <tr>\n",
       "      <th>Vintage</th>\n",
       "      <td>0.017697</td>\n",
       "      <td>-0.019385</td>\n",
       "      <td>1.000000</td>\n",
       "      <td>-0.027286</td>\n",
       "      <td>0.001856</td>\n",
       "      <td>0.020152</td>\n",
       "    </tr>\n",
       "    <tr>\n",
       "      <th>Transaction_Status</th>\n",
       "      <td>0.031537</td>\n",
       "      <td>-0.005088</td>\n",
       "      <td>-0.027286</td>\n",
       "      <td>1.000000</td>\n",
       "      <td>0.006526</td>\n",
       "      <td>-0.086917</td>\n",
       "    </tr>\n",
       "    <tr>\n",
       "      <th>Credit_Card</th>\n",
       "      <td>0.011874</td>\n",
       "      <td>-0.025259</td>\n",
       "      <td>0.001856</td>\n",
       "      <td>0.006526</td>\n",
       "      <td>1.000000</td>\n",
       "      <td>-0.000848</td>\n",
       "    </tr>\n",
       "    <tr>\n",
       "      <th>Is_Churn</th>\n",
       "      <td>0.204016</td>\n",
       "      <td>0.056380</td>\n",
       "      <td>0.020152</td>\n",
       "      <td>-0.086917</td>\n",
       "      <td>-0.000848</td>\n",
       "      <td>1.000000</td>\n",
       "    </tr>\n",
       "  </tbody>\n",
       "</table>\n",
       "</div>"
      ],
      "text/plain": [
       "                         Age   Balance   Vintage  Transaction_Status  \\\n",
       "Age                 1.000000  0.001898  0.017697            0.031537   \n",
       "Balance             0.001898  1.000000 -0.019385           -0.005088   \n",
       "Vintage             0.017697 -0.019385  1.000000           -0.027286   \n",
       "Transaction_Status  0.031537 -0.005088 -0.027286            1.000000   \n",
       "Credit_Card         0.011874 -0.025259  0.001856            0.006526   \n",
       "Is_Churn            0.204016  0.056380  0.020152           -0.086917   \n",
       "\n",
       "                    Credit_Card  Is_Churn  \n",
       "Age                    0.011874  0.204016  \n",
       "Balance               -0.025259  0.056380  \n",
       "Vintage                0.001856  0.020152  \n",
       "Transaction_Status     0.006526 -0.086917  \n",
       "Credit_Card            1.000000 -0.000848  \n",
       "Is_Churn              -0.000848  1.000000  "
      ]
     },
     "execution_count": 30,
     "metadata": {},
     "output_type": "execute_result"
    }
   ],
   "source": [
    "# let's see the correlation matrix of the data\n",
    "# Gives insight about multicollinearity. If correlation > 0.75, those features are higly correlated.\n",
    "\n",
    "train[train.columns].corr()"
   ]
  },
  {
   "cell_type": "code",
   "execution_count": 31,
   "id": "192d9328",
   "metadata": {},
   "outputs": [
    {
     "data": {
      "image/png": "[encoded data removed]",
      "text/plain": [
       "<Figure size 842.4x595.44 with 2 Axes>"
      ]
     },
     "metadata": {
      "needs_background": "light"
     },
     "output_type": "display_data"
    }
   ],
   "source": [
    "# generate the heatmap with te above data so that we can see what colums are corelated with the other one \n",
    "fig, ax = plt.subplots()\n",
    "fig.set_size_inches(11.7, 8.27)\n",
    "sns.set(font_scale = 0.75)\n",
    "sns.heatmap(train[train.columns].corr(), annot = True, fmt = \".6f\")\n",
    "plt.show()"
   ]
  },
  {
   "cell_type": "code",
   "execution_count": 32,
   "id": "a09f75e7",
   "metadata": {},
   "outputs": [],
   "source": [
    "# Checking if the dataset is balanced or imbalanced. We can clearly say it's an imbalanced dataset."
   ]
  },
  {
   "cell_type": "code",
   "execution_count": 33,
   "id": "087b1134",
   "metadata": {},
   "outputs": [
    {
     "data": {
      "text/plain": [
       "0    5113\n",
       "1    1537\n",
       "Name: Is_Churn, dtype: int64"
      ]
     },
     "execution_count": 33,
     "metadata": {},
     "output_type": "execute_result"
    }
   ],
   "source": [
    "train['Is_Churn'].value_counts()"
   ]
  },
  {
   "cell_type": "code",
   "execution_count": 34,
   "id": "c8e7dd11",
   "metadata": {},
   "outputs": [],
   "source": [
    "train_1 = pd.get_dummies(train,drop_first=True)"
   ]
  },
  {
   "cell_type": "code",
   "execution_count": 35,
   "id": "9dba084d",
   "metadata": {},
   "outputs": [
    {
     "data": {
      "text/html": [
       "<div>\n",
       "<style scoped>\n",
       "    .dataframe tbody tr th:only-of-type {\n",
       "        vertical-align: middle;\n",
       "    }\n",
       "\n",
       "    .dataframe tbody tr th {\n",
       "        vertical-align: top;\n",
       "    }\n",
       "\n",
       "    .dataframe thead th {\n",
       "        text-align: right;\n",
       "    }\n",
       "</style>\n",
       "<table border=\"1\" class=\"dataframe\">\n",
       "  <thead>\n",
       "    <tr style=\"text-align: right;\">\n",
       "      <th></th>\n",
       "      <th>Age</th>\n",
       "      <th>Balance</th>\n",
       "      <th>Vintage</th>\n",
       "      <th>Transaction_Status</th>\n",
       "      <th>Credit_Card</th>\n",
       "      <th>Is_Churn</th>\n",
       "      <th>Gender_Male</th>\n",
       "      <th>Income_5L - 10L</th>\n",
       "      <th>Income_Less than 5L</th>\n",
       "      <th>Income_More than 15L</th>\n",
       "      <th>Product_Holdings_2</th>\n",
       "      <th>Product_Holdings_3+</th>\n",
       "      <th>Credit_Category_Good</th>\n",
       "      <th>Credit_Category_Poor</th>\n",
       "    </tr>\n",
       "  </thead>\n",
       "  <tbody>\n",
       "    <tr>\n",
       "      <th>0</th>\n",
       "      <td>36</td>\n",
       "      <td>563266.44</td>\n",
       "      <td>4</td>\n",
       "      <td>0</td>\n",
       "      <td>0</td>\n",
       "      <td>1</td>\n",
       "      <td>0</td>\n",
       "      <td>1</td>\n",
       "      <td>0</td>\n",
       "      <td>0</td>\n",
       "      <td>0</td>\n",
       "      <td>0</td>\n",
       "      <td>0</td>\n",
       "      <td>0</td>\n",
       "    </tr>\n",
       "    <tr>\n",
       "      <th>1</th>\n",
       "      <td>53</td>\n",
       "      <td>875572.11</td>\n",
       "      <td>2</td>\n",
       "      <td>1</td>\n",
       "      <td>1</td>\n",
       "      <td>0</td>\n",
       "      <td>0</td>\n",
       "      <td>0</td>\n",
       "      <td>1</td>\n",
       "      <td>0</td>\n",
       "      <td>0</td>\n",
       "      <td>0</td>\n",
       "      <td>0</td>\n",
       "      <td>1</td>\n",
       "    </tr>\n",
       "    <tr>\n",
       "      <th>2</th>\n",
       "      <td>35</td>\n",
       "      <td>701607.06</td>\n",
       "      <td>2</td>\n",
       "      <td>1</td>\n",
       "      <td>0</td>\n",
       "      <td>0</td>\n",
       "      <td>0</td>\n",
       "      <td>0</td>\n",
       "      <td>0</td>\n",
       "      <td>1</td>\n",
       "      <td>1</td>\n",
       "      <td>0</td>\n",
       "      <td>0</td>\n",
       "      <td>1</td>\n",
       "    </tr>\n",
       "    <tr>\n",
       "      <th>3</th>\n",
       "      <td>43</td>\n",
       "      <td>1393922.16</td>\n",
       "      <td>0</td>\n",
       "      <td>1</td>\n",
       "      <td>1</td>\n",
       "      <td>1</td>\n",
       "      <td>0</td>\n",
       "      <td>0</td>\n",
       "      <td>0</td>\n",
       "      <td>1</td>\n",
       "      <td>1</td>\n",
       "      <td>0</td>\n",
       "      <td>0</td>\n",
       "      <td>1</td>\n",
       "    </tr>\n",
       "    <tr>\n",
       "      <th>4</th>\n",
       "      <td>39</td>\n",
       "      <td>893146.23</td>\n",
       "      <td>1</td>\n",
       "      <td>1</td>\n",
       "      <td>1</td>\n",
       "      <td>1</td>\n",
       "      <td>0</td>\n",
       "      <td>0</td>\n",
       "      <td>0</td>\n",
       "      <td>1</td>\n",
       "      <td>0</td>\n",
       "      <td>0</td>\n",
       "      <td>1</td>\n",
       "      <td>0</td>\n",
       "    </tr>\n",
       "    <tr>\n",
       "      <th>...</th>\n",
       "      <td>...</td>\n",
       "      <td>...</td>\n",
       "      <td>...</td>\n",
       "      <td>...</td>\n",
       "      <td>...</td>\n",
       "      <td>...</td>\n",
       "      <td>...</td>\n",
       "      <td>...</td>\n",
       "      <td>...</td>\n",
       "      <td>...</td>\n",
       "      <td>...</td>\n",
       "      <td>...</td>\n",
       "      <td>...</td>\n",
       "      <td>...</td>\n",
       "    </tr>\n",
       "    <tr>\n",
       "      <th>6645</th>\n",
       "      <td>61</td>\n",
       "      <td>1354526.19</td>\n",
       "      <td>4</td>\n",
       "      <td>1</td>\n",
       "      <td>1</td>\n",
       "      <td>1</td>\n",
       "      <td>1</td>\n",
       "      <td>1</td>\n",
       "      <td>0</td>\n",
       "      <td>0</td>\n",
       "      <td>1</td>\n",
       "      <td>0</td>\n",
       "      <td>0</td>\n",
       "      <td>1</td>\n",
       "    </tr>\n",
       "    <tr>\n",
       "      <th>6646</th>\n",
       "      <td>42</td>\n",
       "      <td>596286.54</td>\n",
       "      <td>3</td>\n",
       "      <td>1</td>\n",
       "      <td>1</td>\n",
       "      <td>0</td>\n",
       "      <td>0</td>\n",
       "      <td>1</td>\n",
       "      <td>0</td>\n",
       "      <td>0</td>\n",
       "      <td>1</td>\n",
       "      <td>0</td>\n",
       "      <td>0</td>\n",
       "      <td>0</td>\n",
       "    </tr>\n",
       "    <tr>\n",
       "      <th>6647</th>\n",
       "      <td>29</td>\n",
       "      <td>979298.19</td>\n",
       "      <td>2</td>\n",
       "      <td>0</td>\n",
       "      <td>0</td>\n",
       "      <td>0</td>\n",
       "      <td>1</td>\n",
       "      <td>0</td>\n",
       "      <td>1</td>\n",
       "      <td>0</td>\n",
       "      <td>1</td>\n",
       "      <td>0</td>\n",
       "      <td>0</td>\n",
       "      <td>1</td>\n",
       "    </tr>\n",
       "    <tr>\n",
       "      <th>6648</th>\n",
       "      <td>65</td>\n",
       "      <td>395233.65</td>\n",
       "      <td>3</td>\n",
       "      <td>0</td>\n",
       "      <td>1</td>\n",
       "      <td>1</td>\n",
       "      <td>0</td>\n",
       "      <td>0</td>\n",
       "      <td>0</td>\n",
       "      <td>0</td>\n",
       "      <td>1</td>\n",
       "      <td>0</td>\n",
       "      <td>0</td>\n",
       "      <td>1</td>\n",
       "    </tr>\n",
       "    <tr>\n",
       "      <th>6649</th>\n",
       "      <td>37</td>\n",
       "      <td>826947.27</td>\n",
       "      <td>1</td>\n",
       "      <td>1</td>\n",
       "      <td>0</td>\n",
       "      <td>0</td>\n",
       "      <td>1</td>\n",
       "      <td>0</td>\n",
       "      <td>0</td>\n",
       "      <td>1</td>\n",
       "      <td>1</td>\n",
       "      <td>0</td>\n",
       "      <td>1</td>\n",
       "      <td>0</td>\n",
       "    </tr>\n",
       "  </tbody>\n",
       "</table>\n",
       "<p>6650 rows × 14 columns</p>\n",
       "</div>"
      ],
      "text/plain": [
       "      Age     Balance  Vintage  Transaction_Status  Credit_Card  Is_Churn  \\\n",
       "0      36   563266.44        4                   0            0         1   \n",
       "1      53   875572.11        2                   1            1         0   \n",
       "2      35   701607.06        2                   1            0         0   \n",
       "3      43  1393922.16        0                   1            1         1   \n",
       "4      39   893146.23        1                   1            1         1   \n",
       "...   ...         ...      ...                 ...          ...       ...   \n",
       "6645   61  1354526.19        4                   1            1         1   \n",
       "6646   42   596286.54        3                   1            1         0   \n",
       "6647   29   979298.19        2                   0            0         0   \n",
       "6648   65   395233.65        3                   0            1         1   \n",
       "6649   37   826947.27        1                   1            0         0   \n",
       "\n",
       "      Gender_Male  Income_5L - 10L  Income_Less than 5L  Income_More than 15L  \\\n",
       "0               0                1                    0                     0   \n",
       "1               0                0                    1                     0   \n",
       "2               0                0                    0                     1   \n",
       "3               0                0                    0                     1   \n",
       "4               0                0                    0                     1   \n",
       "...           ...              ...                  ...                   ...   \n",
       "6645            1                1                    0                     0   \n",
       "6646            0                1                    0                     0   \n",
       "6647            1                0                    1                     0   \n",
       "6648            0                0                    0                     0   \n",
       "6649            1                0                    0                     1   \n",
       "\n",
       "      Product_Holdings_2  Product_Holdings_3+  Credit_Category_Good  \\\n",
       "0                      0                    0                     0   \n",
       "1                      0                    0                     0   \n",
       "2                      1                    0                     0   \n",
       "3                      1                    0                     0   \n",
       "4                      0                    0                     1   \n",
       "...                  ...                  ...                   ...   \n",
       "6645                   1                    0                     0   \n",
       "6646                   1                    0                     0   \n",
       "6647                   1                    0                     0   \n",
       "6648                   1                    0                     0   \n",
       "6649                   1                    0                     1   \n",
       "\n",
       "      Credit_Category_Poor  \n",
       "0                        0  \n",
       "1                        1  \n",
       "2                        1  \n",
       "3                        1  \n",
       "4                        0  \n",
       "...                    ...  \n",
       "6645                     1  \n",
       "6646                     0  \n",
       "6647                     1  \n",
       "6648                     1  \n",
       "6649                     0  \n",
       "\n",
       "[6650 rows x 14 columns]"
      ]
     },
     "execution_count": 35,
     "metadata": {},
     "output_type": "execute_result"
    }
   ],
   "source": [
    "train_1"
   ]
  },
  {
   "cell_type": "code",
   "execution_count": 36,
   "id": "2206e63b",
   "metadata": {},
   "outputs": [
    {
     "data": {
      "text/plain": [
       "Age                       int64\n",
       "Balance                 float64\n",
       "Vintage                   int64\n",
       "Transaction_Status        int64\n",
       "Credit_Card               int64\n",
       "Is_Churn                  int64\n",
       "Gender_Male               uint8\n",
       "Income_5L - 10L           uint8\n",
       "Income_Less than 5L       uint8\n",
       "Income_More than 15L      uint8\n",
       "Product_Holdings_2        uint8\n",
       "Product_Holdings_3+       uint8\n",
       "Credit_Category_Good      uint8\n",
       "Credit_Category_Poor      uint8\n",
       "dtype: object"
      ]
     },
     "execution_count": 36,
     "metadata": {},
     "output_type": "execute_result"
    }
   ],
   "source": [
    "train_1.dtypes"
   ]
  },
  {
   "cell_type": "code",
   "execution_count": 37,
   "id": "9146c2e7",
   "metadata": {},
   "outputs": [],
   "source": [
    "y_1 = train_1.loc[:,'Is_Churn']\n",
    "X_1 = train_1.drop('Is_Churn',axis=1)"
   ]
  },
  {
   "cell_type": "code",
   "execution_count": 38,
   "id": "db7ba445",
   "metadata": {},
   "outputs": [],
   "source": [
    "Xtrain_1, Xtest_1, ytrain_1, ytest_1 = train_test_split(X_1,y_1,test_size=0.2, random_state=1)"
   ]
  },
  {
   "cell_type": "code",
   "execution_count": 39,
   "id": "775ed0a3",
   "metadata": {},
   "outputs": [
    {
     "data": {
      "text/plain": [
       "count    5320.000000\n",
       "mean        2.263722\n",
       "std         1.460838\n",
       "min         0.000000\n",
       "25%         1.000000\n",
       "50%         2.000000\n",
       "75%         3.000000\n",
       "max         5.000000\n",
       "Name: Vintage, dtype: float64"
      ]
     },
     "execution_count": 39,
     "metadata": {},
     "output_type": "execute_result"
    }
   ],
   "source": [
    "Xtrain_1['Vintage'].describe()"
   ]
  },
  {
   "cell_type": "code",
   "execution_count": 40,
   "id": "3a0a9cb8",
   "metadata": {},
   "outputs": [
    {
     "data": {
      "text/plain": [
       "count    5320.000000\n",
       "mean        2.263722\n",
       "std         1.460838\n",
       "min         0.000000\n",
       "25%         1.000000\n",
       "50%         2.000000\n",
       "75%         3.000000\n",
       "max         5.000000\n",
       "Name: Vintage, dtype: float64"
      ]
     },
     "execution_count": 40,
     "metadata": {},
     "output_type": "execute_result"
    }
   ],
   "source": [
    "Xtrain_1['Vintage'].describe()"
   ]
  },
  {
   "cell_type": "code",
   "execution_count": 41,
   "id": "ca630728",
   "metadata": {},
   "outputs": [
    {
     "data": {
      "text/plain": [
       "count    6650.000000\n",
       "mean        2.250226\n",
       "std         1.458795\n",
       "min         0.000000\n",
       "25%         1.000000\n",
       "50%         2.000000\n",
       "75%         3.000000\n",
       "max         5.000000\n",
       "Name: Vintage, dtype: float64"
      ]
     },
     "execution_count": 41,
     "metadata": {},
     "output_type": "execute_result"
    }
   ],
   "source": [
    "X_1['Vintage'].describe()"
   ]
  },
  {
   "cell_type": "code",
   "execution_count": 43,
   "id": "d222bfd3",
   "metadata": {},
   "outputs": [],
   "source": [
    "# Standard scalar converts the all the values into same range where mean=0 and standard deviation =1-- Z-score\n",
    "\n",
    "scalar=StandardScaler()\n",
    "scaled_train_1 = scalar.fit_transform(Xtrain_1)\n",
    "scaled_test_1 = scalar.transform(Xtest_1)"
   ]
  },
  {
   "cell_type": "markdown",
   "id": "00feb310",
   "metadata": {},
   "source": [
    "# Model Building without using sampling techniques"
   ]
  },
  {
   "cell_type": "code",
   "execution_count": 44,
   "id": "f8a07161",
   "metadata": {},
   "outputs": [
    {
     "name": "stdout",
     "output_type": "stream",
     "text": [
      "0.7736842105263158\n",
      "0.06230529595015576\n",
      "[[1019   11]\n",
      " [ 290   10]]\n",
      "              precision    recall  f1-score   support\n",
      "\n",
      "           0       0.78      0.99      0.87      1030\n",
      "           1       0.48      0.03      0.06       300\n",
      "\n",
      "    accuracy                           0.77      1330\n",
      "   macro avg       0.63      0.51      0.47      1330\n",
      "weighted avg       0.71      0.77      0.69      1330\n",
      "\n"
     ]
    }
   ],
   "source": [
    "# Logistic regression\n",
    "\n",
    "lr_1=LogisticRegression()\n",
    "lr_1.fit(scaled_train_1, ytrain_1)\n",
    "ypredicted_1 = lr_1.predict(scaled_test_1)\n",
    "print(accuracy_score(ytest_1,ypredicted_1))\n",
    "print(f1_score(ytest_1,ypredicted_1))\n",
    "print(confusion_matrix(ytest_1,ypredicted_1))\n",
    "print(classification_report(ytest_1,ypredicted_1))"
   ]
  },
  {
   "cell_type": "code",
   "execution_count": 45,
   "id": "d8b636d1",
   "metadata": {},
   "outputs": [
    {
     "name": "stdout",
     "output_type": "stream",
     "text": [
      "0.7736842105263158\n",
      "0.06230529595015576\n",
      "[[1019   11]\n",
      " [ 290   10]]\n",
      "              precision    recall  f1-score   support\n",
      "\n",
      "           0       0.78      0.99      0.87      1030\n",
      "           1       0.48      0.03      0.06       300\n",
      "\n",
      "    accuracy                           0.77      1330\n",
      "   macro avg       0.63      0.51      0.47      1330\n",
      "weighted avg       0.71      0.77      0.69      1330\n",
      "\n"
     ]
    }
   ],
   "source": [
    "# Fit logistic regression with degree 2 polynomial kernel\n",
    "# Hyper parameter tuning \n",
    "\n",
    "param_grid_1 = {'C': [0.1,10,50], 'max_iter': [300,500], 'fit_intercept':[True],'intercept_scaling':[1],'penalty':['l2'],\n",
    "              'tol':[0.0001,0.000001]}\n",
    "grid_log_1 = GridSearchCV(lr_1,param_grid_1, cv=5, refit=True)\n",
    "grid_log_1.fit(scaled_train_1, ytrain_1)\n",
    "\n",
    "ypredicted_1_grid = grid_log_1.predict(scaled_test_1)\n",
    "print(accuracy_score(ytest_1,ypredicted_1_grid))\n",
    "print(f1_score(ytest_1,ypredicted_1_grid))\n",
    "print(confusion_matrix(ytest_1,ypredicted_1_grid))\n",
    "print(classification_report(ytest_1,ypredicted_1_grid))"
   ]
  },
  {
   "cell_type": "code",
   "execution_count": 46,
   "id": "c925e262",
   "metadata": {},
   "outputs": [
    {
     "name": "stdout",
     "output_type": "stream",
     "text": [
      "0.718796992481203\n",
      "0.5101607521989687\n",
      "[[912 118]\n",
      " [256  44]]\n",
      "              precision    recall  f1-score   support\n",
      "\n",
      "           0       0.78      0.89      0.83      1030\n",
      "           1       0.27      0.15      0.19       300\n",
      "\n",
      "    accuracy                           0.72      1330\n",
      "   macro avg       0.53      0.52      0.51      1330\n",
      "weighted avg       0.67      0.72      0.69      1330\n",
      "\n"
     ]
    }
   ],
   "source": [
    "# DecisionTreeClassifier\n",
    "\n",
    "dtree_1 = DecisionTreeClassifier(max_depth=10, min_samples_split=2, min_samples_leaf=3).fit(Xtrain_1,ytrain_1)\n",
    "\n",
    "ypredicted_tree_1 = dtree_1.predict(Xtest_1)\n",
    "print(accuracy_score(ytest_1,ypredicted_tree_1))\n",
    "print(f1_score(ytest_1,ypredicted_tree_1,average='macro'))\n",
    "print(confusion_matrix(ytest_1,ypredicted_tree_1))\n",
    "print(classification_report(ytest_1,ypredicted_tree_1))"
   ]
  },
  {
   "cell_type": "code",
   "execution_count": 47,
   "id": "75813d44",
   "metadata": {},
   "outputs": [
    {
     "data": {
      "text/plain": [
       "GridSearchCV(cv=10,\n",
       "             estimator=DecisionTreeClassifier(max_depth=10, min_samples_leaf=3),\n",
       "             n_jobs=-1,\n",
       "             param_grid={'max_depth': [4, 8, 13, 17, 22, 27, 31, 36, 40, 45,\n",
       "                                       50],\n",
       "                         'max_features': ['auto', 'sqrt'],\n",
       "                         'min_samples_leaf': [10, 12, 15, 19, 22, 15, 40, 45],\n",
       "                         'min_samples_split': [10, 15, 20, 25, 30, 35, 40, 45]})"
      ]
     },
     "execution_count": 47,
     "metadata": {},
     "output_type": "execute_result"
    }
   ],
   "source": [
    "# Gridsearch for decisiontreeClassifier\n",
    "# Hyper Parameter tuning for DecisionTreeClassifier\n",
    "\n",
    "param_grid_1 = {'max_features':['auto','sqrt'],\n",
    "            'max_depth':[int(x) for x in np.linspace(start=4,stop=50,num=11)],\n",
    "            'min_samples_leaf':[10,12,15,19,22,15,40,45],\n",
    "            'min_samples_split':[10,15,20,25,30,35,40,45]}\n",
    "grid_dtree_1 = GridSearchCV(dtree_1,param_grid_1,cv=10,n_jobs=-1)\n",
    "grid_dtree_1.fit(Xtrain_1,ytrain_1)"
   ]
  },
  {
   "cell_type": "code",
   "execution_count": 48,
   "id": "4222dd82",
   "metadata": {},
   "outputs": [
    {
     "data": {
      "text/plain": [
       "(DecisionTreeClassifier(max_depth=4, max_features='auto', min_samples_leaf=15,\n",
       "                        min_samples_split=25),\n",
       " 0.7699248120300752,\n",
       " {'max_depth': 4,\n",
       "  'max_features': 'auto',\n",
       "  'min_samples_leaf': 15,\n",
       "  'min_samples_split': 25})"
      ]
     },
     "execution_count": 48,
     "metadata": {},
     "output_type": "execute_result"
    }
   ],
   "source": [
    "grid_dtree_1.best_estimator_, grid_dtree_1.best_score_, grid_dtree_1.best_params_"
   ]
  },
  {
   "cell_type": "code",
   "execution_count": 49,
   "id": "1da04645",
   "metadata": {},
   "outputs": [
    {
     "name": "stdout",
     "output_type": "stream",
     "text": [
      "0.7744360902255639\n",
      "0.4364406779661017\n",
      "[[1030    0]\n",
      " [ 300    0]]\n",
      "              precision    recall  f1-score   support\n",
      "\n",
      "           0       0.77      1.00      0.87      1030\n",
      "           1       0.00      0.00      0.00       300\n",
      "\n",
      "    accuracy                           0.77      1330\n",
      "   macro avg       0.39      0.50      0.44      1330\n",
      "weighted avg       0.60      0.77      0.68      1330\n",
      "\n"
     ]
    }
   ],
   "source": [
    "# Precition on test data\n",
    "\n",
    "ypredicted_grid_dtree_1 = grid_dtree_1.predict(Xtest_1)\n",
    "\n",
    "print(accuracy_score(ytest_1,ypredicted_grid_dtree_1))\n",
    "print(f1_score(ytest_1,ypredicted_grid_dtree_1,average='macro'))\n",
    "print(confusion_matrix(ytest_1,ypredicted_grid_dtree_1))\n",
    "print(classification_report(ytest_1,ypredicted_grid_dtree_1))"
   ]
  },
  {
   "cell_type": "code",
   "execution_count": 50,
   "id": "b979b988",
   "metadata": {},
   "outputs": [
    {
     "name": "stdout",
     "output_type": "stream",
     "text": [
      "0.7744360902255639\n",
      "0.4364406779661017\n",
      "[[1030    0]\n",
      " [ 300    0]]\n",
      "              precision    recall  f1-score   support\n",
      "\n",
      "           0       0.77      1.00      0.87      1030\n",
      "           1       0.00      0.00      0.00       300\n",
      "\n",
      "    accuracy                           0.77      1330\n",
      "   macro avg       0.39      0.50      0.44      1330\n",
      "weighted avg       0.60      0.77      0.68      1330\n",
      "\n"
     ]
    }
   ],
   "source": [
    "# Random forest\n",
    "\n",
    "rf_1 = RandomForestClassifier(max_depth=4, max_features='auto', min_samples_leaf=15,\n",
    "                        min_samples_split=25,n_estimators=199)\n",
    "# param_grid={\n",
    "#             'max_depth':[int(x) for x in np.linspace(start=10,stop=100,num=11)],\n",
    "#             'min_samples_leaf':[1,2,3,5],\n",
    "#             'min_samples_split':[2,5,10,15]}\n",
    "# rf_1 = GridSearchCV(rf,param_grid,cv=10,n_jobs=-1)\n",
    "rf_1.fit(Xtrain_1,ytrain_1)\n",
    "\n",
    "ypredicted_rf_1 = rf_1.predict(Xtest_1)\n",
    "\n",
    "print(accuracy_score(ytest_1,ypredicted_rf_1))\n",
    "print(f1_score(ytest_1,ypredicted_rf_1,average='macro'))\n",
    "print(confusion_matrix(ytest_1,ypredicted_rf_1))\n",
    "print(classification_report(ytest_1,ypredicted_rf_1))"
   ]
  },
  {
   "cell_type": "markdown",
   "id": "3ba13441",
   "metadata": {},
   "source": [
    "# Boosting"
   ]
  },
  {
   "cell_type": "code",
   "execution_count": 51,
   "id": "673f3189",
   "metadata": {},
   "outputs": [
    {
     "name": "stdout",
     "output_type": "stream",
     "text": [
      "[20]\ttraining's binary_logloss: 0.476927\tvalid_0's binary_logloss: 0.520295\n",
      "[40]\ttraining's binary_logloss: 0.446497\tvalid_0's binary_logloss: 0.525361\n",
      "[60]\ttraining's binary_logloss: 0.423617\tvalid_0's binary_logloss: 0.527388\n",
      "[80]\ttraining's binary_logloss: 0.403688\tvalid_0's binary_logloss: 0.528992\n",
      "[100]\ttraining's binary_logloss: 0.387143\tvalid_0's binary_logloss: 0.532655\n"
     ]
    },
    {
     "data": {
      "text/plain": [
       "LGBMClassifier(learning_rate=0.09, max_depth=46, random_state=42)"
      ]
     },
     "execution_count": 51,
     "metadata": {},
     "output_type": "execute_result"
    }
   ],
   "source": [
    "# boosting technique- Light gradient boosting mechanism\n",
    "\n",
    "import lightgbm as lgb\n",
    "model_lgb_1 = lgb.LGBMClassifier(learning_rate=0.09,max_depth=46,random_state=42)\n",
    "model_lgb_1.fit(Xtrain_1,ytrain_1,eval_set=[(Xtest_1,ytest_1),(Xtrain_1,ytrain_1)],\n",
    "          verbose=20,eval_metric='logloss')"
   ]
  },
  {
   "cell_type": "code",
   "execution_count": 52,
   "id": "76b411c8",
   "metadata": {},
   "outputs": [
    {
     "name": "stdout",
     "output_type": "stream",
     "text": [
      "[[994  36]\n",
      " [282  18]]\n",
      "0.7609022556390977\n",
      "F1-Score 0.481896893880371\n",
      "              precision    recall  f1-score   support\n",
      "\n",
      "           0       0.78      0.97      0.86      1030\n",
      "           1       0.33      0.06      0.10       300\n",
      "\n",
      "    accuracy                           0.76      1330\n",
      "   macro avg       0.56      0.51      0.48      1330\n",
      "weighted avg       0.68      0.76      0.69      1330\n",
      "\n"
     ]
    }
   ],
   "source": [
    "y_pred_model_lgb_1 = model_lgb_1.predict(Xtest_1)\n",
    "print(confusion_matrix(ytest_1,y_pred_model_lgb_1))\n",
    "print(accuracy_score(ytest_1,y_pred_model_lgb_1))\n",
    "print(\"F1-Score\",f1_score(ytest_1,y_pred_model_lgb_1,average='macro'))\n",
    "print(classification_report(ytest_1,y_pred_model_lgb_1))"
   ]
  },
  {
   "cell_type": "code",
   "execution_count": null,
   "id": "ea8a8feb",
   "metadata": {},
   "outputs": [],
   "source": [
    "# As the dataset is imbalances let's oversample the data as traing with the imbalanced data is not giving good accuracy/ F1-Score"
   ]
  },
  {
   "cell_type": "code",
   "execution_count": null,
   "id": "9b21f7d6",
   "metadata": {},
   "outputs": [],
   "source": [
    "# Let's try using Oversampling"
   ]
  },
  {
   "cell_type": "markdown",
   "id": "bf9216fd",
   "metadata": {},
   "source": [
    "# Oversampling"
   ]
  },
  {
   "cell_type": "code",
   "execution_count": 53,
   "id": "31b9e656",
   "metadata": {},
   "outputs": [],
   "source": [
    "train_majority = train[train.Is_Churn==0]\n",
    "train_minority = train[train.Is_Churn==1]\n",
    "train_minority_upsampled = resample(train_minority, replace=True,     # sample with replacement\n",
    "                                 n_samples=5113,    # to match majority class\n",
    "                                 random_state=123) # reproducible results\n",
    "train_upsampled = pd.concat([train_majority, train_minority_upsampled])"
   ]
  },
  {
   "cell_type": "code",
   "execution_count": 54,
   "id": "48cdcadd",
   "metadata": {},
   "outputs": [
    {
     "data": {
      "text/plain": [
       "0    5113\n",
       "1    5113\n",
       "Name: Is_Churn, dtype: int64"
      ]
     },
     "execution_count": 54,
     "metadata": {},
     "output_type": "execute_result"
    }
   ],
   "source": [
    "train_upsampled.Is_Churn.value_counts()"
   ]
  },
  {
   "cell_type": "code",
   "execution_count": 55,
   "id": "2680b20b",
   "metadata": {},
   "outputs": [
    {
     "data": {
      "image/png": "[encoded data removed]",
      "text/plain": [
       "<Figure size 432x288 with 1 Axes>"
      ]
     },
     "metadata": {},
     "output_type": "display_data"
    }
   ],
   "source": [
    "# Graphical representation of the target label percentage.\n",
    "total_len = len(train_upsampled['Is_Churn'])\n",
    "sns.set()\n",
    "sns.countplot(train_upsampled.Is_Churn).set_title('Data Distribution')\n",
    "ax = plt.gca()\n",
    "for p in ax.patches:\n",
    "    height = p.get_height()\n",
    "    ax.text(p.get_x() + p.get_width()/2.,\n",
    "            height + 2,\n",
    "            '{:.2f}%'.format(100 * (height/total_len)),\n",
    "            fontsize=14, ha='center', va='bottom')\n",
    "sns.set(font_scale=1.5)\n",
    "ax.set_xlabel(\"Labels for exited column\")\n",
    "ax.set_ylabel(\"Numbers of records\")\n",
    "plt.show()"
   ]
  },
  {
   "cell_type": "code",
   "execution_count": 56,
   "id": "fbfe1c2e",
   "metadata": {},
   "outputs": [],
   "source": [
    "# apply baseline models \n",
    "# As the problem is of classification, we will apply logistic classification, decision trees and random forest to the problem to check the accuracy and F1-scoe"
   ]
  },
  {
   "cell_type": "code",
   "execution_count": 57,
   "id": "a554736d",
   "metadata": {},
   "outputs": [],
   "source": [
    "train_new = train_upsampled"
   ]
  },
  {
   "cell_type": "code",
   "execution_count": 58,
   "id": "aabe8cfd",
   "metadata": {},
   "outputs": [
    {
     "data": {
      "text/plain": [
       "Age                     int64\n",
       "Gender                 object\n",
       "Income                 object\n",
       "Balance               float64\n",
       "Vintage                 int64\n",
       "Transaction_Status      int64\n",
       "Product_Holdings       object\n",
       "Credit_Card             int64\n",
       "Credit_Category        object\n",
       "Is_Churn                int64\n",
       "dtype: object"
      ]
     },
     "execution_count": 58,
     "metadata": {},
     "output_type": "execute_result"
    }
   ],
   "source": [
    "train_new.dtypes"
   ]
  },
  {
   "cell_type": "code",
   "execution_count": 59,
   "id": "ec6be3aa",
   "metadata": {
    "scrolled": true
   },
   "outputs": [
    {
     "data": {
      "text/plain": [
       "Poor       4832\n",
       "Average    3132\n",
       "Good       2262\n",
       "Name: Credit_Category, dtype: int64"
      ]
     },
     "execution_count": 59,
     "metadata": {},
     "output_type": "execute_result"
    }
   ],
   "source": [
    "train_new.Credit_Category.value_counts()"
   ]
  },
  {
   "cell_type": "code",
   "execution_count": 60,
   "id": "7dfbb3ce",
   "metadata": {},
   "outputs": [
    {
     "data": {
      "text/plain": [
       "10L - 15L        2915\n",
       "5L - 10L         2746\n",
       "Less than 5L     2415\n",
       "More than 15L    2150\n",
       "Name: Income, dtype: int64"
      ]
     },
     "execution_count": 60,
     "metadata": {},
     "output_type": "execute_result"
    }
   ],
   "source": [
    "train_new.Income.value_counts()"
   ]
  },
  {
   "cell_type": "code",
   "execution_count": 61,
   "id": "8f5384e3",
   "metadata": {},
   "outputs": [],
   "source": [
    "# Converting all categorical features into numerical\n",
    "train_new = pd.get_dummies(train_new,drop_first=True)"
   ]
  },
  {
   "cell_type": "code",
   "execution_count": 62,
   "id": "158e01d9",
   "metadata": {},
   "outputs": [
    {
     "data": {
      "text/plain": [
       "Age                       int64\n",
       "Balance                 float64\n",
       "Vintage                   int64\n",
       "Transaction_Status        int64\n",
       "Credit_Card               int64\n",
       "Is_Churn                  int64\n",
       "Gender_Male               uint8\n",
       "Income_5L - 10L           uint8\n",
       "Income_Less than 5L       uint8\n",
       "Income_More than 15L      uint8\n",
       "Product_Holdings_2        uint8\n",
       "Product_Holdings_3+       uint8\n",
       "Credit_Category_Good      uint8\n",
       "Credit_Category_Poor      uint8\n",
       "dtype: object"
      ]
     },
     "execution_count": 62,
     "metadata": {},
     "output_type": "execute_result"
    }
   ],
   "source": [
    "# We can see all dtypes are numerical\n",
    "train_new.dtypes"
   ]
  },
  {
   "cell_type": "code",
   "execution_count": 63,
   "id": "334a61a1",
   "metadata": {},
   "outputs": [
    {
     "data": {
      "text/plain": [
       "(10226, 14)"
      ]
     },
     "execution_count": 63,
     "metadata": {},
     "output_type": "execute_result"
    }
   ],
   "source": [
    "train_new.shape"
   ]
  },
  {
   "cell_type": "code",
   "execution_count": 64,
   "id": "9faa2f72",
   "metadata": {},
   "outputs": [
    {
     "data": {
      "text/html": [
       "<div>\n",
       "<style scoped>\n",
       "    .dataframe tbody tr th:only-of-type {\n",
       "        vertical-align: middle;\n",
       "    }\n",
       "\n",
       "    .dataframe tbody tr th {\n",
       "        vertical-align: top;\n",
       "    }\n",
       "\n",
       "    .dataframe thead th {\n",
       "        text-align: right;\n",
       "    }\n",
       "</style>\n",
       "<table border=\"1\" class=\"dataframe\">\n",
       "  <thead>\n",
       "    <tr style=\"text-align: right;\">\n",
       "      <th></th>\n",
       "      <th>Age</th>\n",
       "      <th>Balance</th>\n",
       "      <th>Vintage</th>\n",
       "      <th>Transaction_Status</th>\n",
       "      <th>Credit_Card</th>\n",
       "      <th>Is_Churn</th>\n",
       "      <th>Gender_Male</th>\n",
       "      <th>Income_5L - 10L</th>\n",
       "      <th>Income_Less than 5L</th>\n",
       "      <th>Income_More than 15L</th>\n",
       "      <th>Product_Holdings_2</th>\n",
       "      <th>Product_Holdings_3+</th>\n",
       "      <th>Credit_Category_Good</th>\n",
       "      <th>Credit_Category_Poor</th>\n",
       "    </tr>\n",
       "  </thead>\n",
       "  <tbody>\n",
       "    <tr>\n",
       "      <th>count</th>\n",
       "      <td>10226.000000</td>\n",
       "      <td>1.022600e+04</td>\n",
       "      <td>10226.000000</td>\n",
       "      <td>10226.000000</td>\n",
       "      <td>10226.000000</td>\n",
       "      <td>10226.000000</td>\n",
       "      <td>10226.000000</td>\n",
       "      <td>10226.000000</td>\n",
       "      <td>10226.000000</td>\n",
       "      <td>10226.000000</td>\n",
       "      <td>10226.000000</td>\n",
       "      <td>10226.000000</td>\n",
       "      <td>10226.000000</td>\n",
       "      <td>10226.000000</td>\n",
       "    </tr>\n",
       "    <tr>\n",
       "      <th>mean</th>\n",
       "      <td>42.294837</td>\n",
       "      <td>8.269920e+05</td>\n",
       "      <td>2.262859</td>\n",
       "      <td>0.485820</td>\n",
       "      <td>0.668394</td>\n",
       "      <td>0.500000</td>\n",
       "      <td>0.523078</td>\n",
       "      <td>0.268531</td>\n",
       "      <td>0.236163</td>\n",
       "      <td>0.210248</td>\n",
       "      <td>0.469881</td>\n",
       "      <td>0.038529</td>\n",
       "      <td>0.221201</td>\n",
       "      <td>0.472521</td>\n",
       "    </tr>\n",
       "    <tr>\n",
       "      <th>std</th>\n",
       "      <td>9.737343</td>\n",
       "      <td>5.202900e+05</td>\n",
       "      <td>1.460061</td>\n",
       "      <td>0.499823</td>\n",
       "      <td>0.470813</td>\n",
       "      <td>0.500024</td>\n",
       "      <td>0.499492</td>\n",
       "      <td>0.443217</td>\n",
       "      <td>0.424744</td>\n",
       "      <td>0.407505</td>\n",
       "      <td>0.499116</td>\n",
       "      <td>0.192480</td>\n",
       "      <td>0.415076</td>\n",
       "      <td>0.499269</td>\n",
       "    </tr>\n",
       "    <tr>\n",
       "      <th>min</th>\n",
       "      <td>21.000000</td>\n",
       "      <td>6.300000e+01</td>\n",
       "      <td>0.000000</td>\n",
       "      <td>0.000000</td>\n",
       "      <td>0.000000</td>\n",
       "      <td>0.000000</td>\n",
       "      <td>0.000000</td>\n",
       "      <td>0.000000</td>\n",
       "      <td>0.000000</td>\n",
       "      <td>0.000000</td>\n",
       "      <td>0.000000</td>\n",
       "      <td>0.000000</td>\n",
       "      <td>0.000000</td>\n",
       "      <td>0.000000</td>\n",
       "    </tr>\n",
       "    <tr>\n",
       "      <th>1%</th>\n",
       "      <td>25.000000</td>\n",
       "      <td>1.559475e+04</td>\n",
       "      <td>0.000000</td>\n",
       "      <td>0.000000</td>\n",
       "      <td>0.000000</td>\n",
       "      <td>0.000000</td>\n",
       "      <td>0.000000</td>\n",
       "      <td>0.000000</td>\n",
       "      <td>0.000000</td>\n",
       "      <td>0.000000</td>\n",
       "      <td>0.000000</td>\n",
       "      <td>0.000000</td>\n",
       "      <td>0.000000</td>\n",
       "      <td>0.000000</td>\n",
       "    </tr>\n",
       "    <tr>\n",
       "      <th>5%</th>\n",
       "      <td>28.000000</td>\n",
       "      <td>6.945300e+04</td>\n",
       "      <td>0.000000</td>\n",
       "      <td>0.000000</td>\n",
       "      <td>0.000000</td>\n",
       "      <td>0.000000</td>\n",
       "      <td>0.000000</td>\n",
       "      <td>0.000000</td>\n",
       "      <td>0.000000</td>\n",
       "      <td>0.000000</td>\n",
       "      <td>0.000000</td>\n",
       "      <td>0.000000</td>\n",
       "      <td>0.000000</td>\n",
       "      <td>0.000000</td>\n",
       "    </tr>\n",
       "    <tr>\n",
       "      <th>10%</th>\n",
       "      <td>30.000000</td>\n",
       "      <td>1.376550e+05</td>\n",
       "      <td>0.000000</td>\n",
       "      <td>0.000000</td>\n",
       "      <td>0.000000</td>\n",
       "      <td>0.000000</td>\n",
       "      <td>0.000000</td>\n",
       "      <td>0.000000</td>\n",
       "      <td>0.000000</td>\n",
       "      <td>0.000000</td>\n",
       "      <td>0.000000</td>\n",
       "      <td>0.000000</td>\n",
       "      <td>0.000000</td>\n",
       "      <td>0.000000</td>\n",
       "    </tr>\n",
       "    <tr>\n",
       "      <th>25%</th>\n",
       "      <td>35.000000</td>\n",
       "      <td>4.203579e+05</td>\n",
       "      <td>1.000000</td>\n",
       "      <td>0.000000</td>\n",
       "      <td>0.000000</td>\n",
       "      <td>0.000000</td>\n",
       "      <td>0.000000</td>\n",
       "      <td>0.000000</td>\n",
       "      <td>0.000000</td>\n",
       "      <td>0.000000</td>\n",
       "      <td>0.000000</td>\n",
       "      <td>0.000000</td>\n",
       "      <td>0.000000</td>\n",
       "      <td>0.000000</td>\n",
       "    </tr>\n",
       "    <tr>\n",
       "      <th>50%</th>\n",
       "      <td>41.000000</td>\n",
       "      <td>7.921282e+05</td>\n",
       "      <td>2.000000</td>\n",
       "      <td>0.000000</td>\n",
       "      <td>1.000000</td>\n",
       "      <td>0.500000</td>\n",
       "      <td>1.000000</td>\n",
       "      <td>0.000000</td>\n",
       "      <td>0.000000</td>\n",
       "      <td>0.000000</td>\n",
       "      <td>0.000000</td>\n",
       "      <td>0.000000</td>\n",
       "      <td>0.000000</td>\n",
       "      <td>0.000000</td>\n",
       "    </tr>\n",
       "    <tr>\n",
       "      <th>75%</th>\n",
       "      <td>49.000000</td>\n",
       "      <td>1.172897e+06</td>\n",
       "      <td>3.000000</td>\n",
       "      <td>1.000000</td>\n",
       "      <td>1.000000</td>\n",
       "      <td>1.000000</td>\n",
       "      <td>1.000000</td>\n",
       "      <td>1.000000</td>\n",
       "      <td>0.000000</td>\n",
       "      <td>0.000000</td>\n",
       "      <td>1.000000</td>\n",
       "      <td>0.000000</td>\n",
       "      <td>0.000000</td>\n",
       "      <td>1.000000</td>\n",
       "    </tr>\n",
       "    <tr>\n",
       "      <th>85%</th>\n",
       "      <td>53.000000</td>\n",
       "      <td>1.391431e+06</td>\n",
       "      <td>4.000000</td>\n",
       "      <td>1.000000</td>\n",
       "      <td>1.000000</td>\n",
       "      <td>1.000000</td>\n",
       "      <td>1.000000</td>\n",
       "      <td>1.000000</td>\n",
       "      <td>1.000000</td>\n",
       "      <td>1.000000</td>\n",
       "      <td>1.000000</td>\n",
       "      <td>0.000000</td>\n",
       "      <td>1.000000</td>\n",
       "      <td>1.000000</td>\n",
       "    </tr>\n",
       "    <tr>\n",
       "      <th>90%</th>\n",
       "      <td>56.000000</td>\n",
       "      <td>1.541868e+06</td>\n",
       "      <td>4.000000</td>\n",
       "      <td>1.000000</td>\n",
       "      <td>1.000000</td>\n",
       "      <td>1.000000</td>\n",
       "      <td>1.000000</td>\n",
       "      <td>1.000000</td>\n",
       "      <td>1.000000</td>\n",
       "      <td>1.000000</td>\n",
       "      <td>1.000000</td>\n",
       "      <td>0.000000</td>\n",
       "      <td>1.000000</td>\n",
       "      <td>1.000000</td>\n",
       "    </tr>\n",
       "    <tr>\n",
       "      <th>99%</th>\n",
       "      <td>65.000000</td>\n",
       "      <td>2.195852e+06</td>\n",
       "      <td>5.000000</td>\n",
       "      <td>1.000000</td>\n",
       "      <td>1.000000</td>\n",
       "      <td>1.000000</td>\n",
       "      <td>1.000000</td>\n",
       "      <td>1.000000</td>\n",
       "      <td>1.000000</td>\n",
       "      <td>1.000000</td>\n",
       "      <td>1.000000</td>\n",
       "      <td>1.000000</td>\n",
       "      <td>1.000000</td>\n",
       "      <td>1.000000</td>\n",
       "    </tr>\n",
       "    <tr>\n",
       "      <th>max</th>\n",
       "      <td>65.000000</td>\n",
       "      <td>2.436616e+06</td>\n",
       "      <td>5.000000</td>\n",
       "      <td>1.000000</td>\n",
       "      <td>1.000000</td>\n",
       "      <td>1.000000</td>\n",
       "      <td>1.000000</td>\n",
       "      <td>1.000000</td>\n",
       "      <td>1.000000</td>\n",
       "      <td>1.000000</td>\n",
       "      <td>1.000000</td>\n",
       "      <td>1.000000</td>\n",
       "      <td>1.000000</td>\n",
       "      <td>1.000000</td>\n",
       "    </tr>\n",
       "  </tbody>\n",
       "</table>\n",
       "</div>"
      ],
      "text/plain": [
       "                Age       Balance       Vintage  Transaction_Status  \\\n",
       "count  10226.000000  1.022600e+04  10226.000000        10226.000000   \n",
       "mean      42.294837  8.269920e+05      2.262859            0.485820   \n",
       "std        9.737343  5.202900e+05      1.460061            0.499823   \n",
       "min       21.000000  6.300000e+01      0.000000            0.000000   \n",
       "1%        25.000000  1.559475e+04      0.000000            0.000000   \n",
       "5%        28.000000  6.945300e+04      0.000000            0.000000   \n",
       "10%       30.000000  1.376550e+05      0.000000            0.000000   \n",
       "25%       35.000000  4.203579e+05      1.000000            0.000000   \n",
       "50%       41.000000  7.921282e+05      2.000000            0.000000   \n",
       "75%       49.000000  1.172897e+06      3.000000            1.000000   \n",
       "85%       53.000000  1.391431e+06      4.000000            1.000000   \n",
       "90%       56.000000  1.541868e+06      4.000000            1.000000   \n",
       "99%       65.000000  2.195852e+06      5.000000            1.000000   \n",
       "max       65.000000  2.436616e+06      5.000000            1.000000   \n",
       "\n",
       "        Credit_Card      Is_Churn   Gender_Male  Income_5L - 10L  \\\n",
       "count  10226.000000  10226.000000  10226.000000     10226.000000   \n",
       "mean       0.668394      0.500000      0.523078         0.268531   \n",
       "std        0.470813      0.500024      0.499492         0.443217   \n",
       "min        0.000000      0.000000      0.000000         0.000000   \n",
       "1%         0.000000      0.000000      0.000000         0.000000   \n",
       "5%         0.000000      0.000000      0.000000         0.000000   \n",
       "10%        0.000000      0.000000      0.000000         0.000000   \n",
       "25%        0.000000      0.000000      0.000000         0.000000   \n",
       "50%        1.000000      0.500000      1.000000         0.000000   \n",
       "75%        1.000000      1.000000      1.000000         1.000000   \n",
       "85%        1.000000      1.000000      1.000000         1.000000   \n",
       "90%        1.000000      1.000000      1.000000         1.000000   \n",
       "99%        1.000000      1.000000      1.000000         1.000000   \n",
       "max        1.000000      1.000000      1.000000         1.000000   \n",
       "\n",
       "       Income_Less than 5L  Income_More than 15L  Product_Holdings_2  \\\n",
       "count         10226.000000          10226.000000        10226.000000   \n",
       "mean              0.236163              0.210248            0.469881   \n",
       "std               0.424744              0.407505            0.499116   \n",
       "min               0.000000              0.000000            0.000000   \n",
       "1%                0.000000              0.000000            0.000000   \n",
       "5%                0.000000              0.000000            0.000000   \n",
       "10%               0.000000              0.000000            0.000000   \n",
       "25%               0.000000              0.000000            0.000000   \n",
       "50%               0.000000              0.000000            0.000000   \n",
       "75%               0.000000              0.000000            1.000000   \n",
       "85%               1.000000              1.000000            1.000000   \n",
       "90%               1.000000              1.000000            1.000000   \n",
       "99%               1.000000              1.000000            1.000000   \n",
       "max               1.000000              1.000000            1.000000   \n",
       "\n",
       "       Product_Holdings_3+  Credit_Category_Good  Credit_Category_Poor  \n",
       "count         10226.000000          10226.000000          10226.000000  \n",
       "mean              0.038529              0.221201              0.472521  \n",
       "std               0.192480              0.415076              0.499269  \n",
       "min               0.000000              0.000000              0.000000  \n",
       "1%                0.000000              0.000000              0.000000  \n",
       "5%                0.000000              0.000000              0.000000  \n",
       "10%               0.000000              0.000000              0.000000  \n",
       "25%               0.000000              0.000000              0.000000  \n",
       "50%               0.000000              0.000000              0.000000  \n",
       "75%               0.000000              0.000000              1.000000  \n",
       "85%               0.000000              1.000000              1.000000  \n",
       "90%               0.000000              1.000000              1.000000  \n",
       "99%               1.000000              1.000000              1.000000  \n",
       "max               1.000000              1.000000              1.000000  "
      ]
     },
     "execution_count": 64,
     "metadata": {},
     "output_type": "execute_result"
    }
   ],
   "source": [
    "train_new.describe(percentiles=[0.01,0.05,0.10,0.25,0.50,0.75,0.85,0.9,0.99])"
   ]
  },
  {
   "cell_type": "code",
   "execution_count": 65,
   "id": "9b822846",
   "metadata": {},
   "outputs": [
    {
     "data": {
      "text/plain": [
       "<AxesSubplot:xlabel='Age'>"
      ]
     },
     "execution_count": 65,
     "metadata": {},
     "output_type": "execute_result"
    },
    {
     "data": {
      "image/png": "[encoded data removed]",
      "text/plain": [
       "<Figure size 432x288 with 1 Axes>"
      ]
     },
     "metadata": {},
     "output_type": "display_data"
    }
   ],
   "source": [
    "sns.boxplot(train_new['Age'])"
   ]
  },
  {
   "cell_type": "code",
   "execution_count": 66,
   "id": "3df20b27",
   "metadata": {},
   "outputs": [],
   "source": [
    "# seperating dependent and independent variables\n",
    "\n",
    "y = train_new.loc[:,'Is_Churn']\n",
    "X = train_new.drop('Is_Churn',axis=1)"
   ]
  },
  {
   "cell_type": "code",
   "execution_count": 67,
   "id": "210cb2e9",
   "metadata": {},
   "outputs": [],
   "source": [
    "# Splitting the data into train and test\n",
    "\n",
    "Xtrain, Xtest, ytrain, ytest = train_test_split(X,y,test_size=0.2, random_state=1)"
   ]
  },
  {
   "cell_type": "code",
   "execution_count": 68,
   "id": "44f084c2",
   "metadata": {},
   "outputs": [],
   "source": [
    "# Standard scalar converts the all the values into same range where mean=0 and standard deviation =1-- Z-score\n",
    "\n",
    "scalar=StandardScaler()\n",
    "scaled_train = scalar.fit_transform(Xtrain)\n",
    "scaled_test = scalar.transform(Xtest)"
   ]
  },
  {
   "cell_type": "code",
   "execution_count": 69,
   "id": "d6e9ce6b",
   "metadata": {},
   "outputs": [
    {
     "data": {
      "text/plain": [
       "array([[-0.95845387,  0.44100509, -0.18812726, ..., -0.19913386,\n",
       "         1.86869937, -0.94874451],\n",
       "       [ 2.3267557 ,  0.60166148, -0.18812726, ..., -0.19913386,\n",
       "         1.86869937, -0.94874451],\n",
       "       [-0.54780267,  1.73687626,  0.50041011, ..., -0.19913386,\n",
       "         1.86869937, -0.94874451],\n",
       "       ...,\n",
       "       [-1.36910506, -0.18710276, -0.18812726, ..., -0.19913386,\n",
       "        -0.53513155,  1.05402455],\n",
       "       [-0.44513987, -0.16044368, -0.87666463, ..., -0.19913386,\n",
       "        -0.53513155, -0.94874451],\n",
       "       [-0.23981427,  0.44896874,  0.50041011, ..., -0.19913386,\n",
       "        -0.53513155,  1.05402455]])"
      ]
     },
     "execution_count": 69,
     "metadata": {},
     "output_type": "execute_result"
    }
   ],
   "source": [
    "scaled_train"
   ]
  },
  {
   "cell_type": "code",
   "execution_count": 70,
   "id": "70bf1fea",
   "metadata": {},
   "outputs": [
    {
     "data": {
      "text/plain": [
       "array([[ 2.3267557 , -0.36936572,  0.50041011, ..., -0.19913386,\n",
       "        -0.53513155, -0.94874451],\n",
       "       [ 1.09480211,  0.89737346, -0.87666463, ..., -0.19913386,\n",
       "        -0.53513155, -0.94874451],\n",
       "       [ 1.71077891,  1.34060552, -0.18812726, ..., -0.19913386,\n",
       "        -0.53513155,  1.05402455],\n",
       "       ...,\n",
       "       [-0.34247707, -0.08062905,  1.18894748, ..., -0.19913386,\n",
       "        -0.53513155,  1.05402455],\n",
       "       [-0.44513987,  2.12862677, -0.18812726, ..., -0.19913386,\n",
       "        -0.53513155, -0.94874451],\n",
       "       [ 0.58148812, -0.23681663, -1.565202  , ..., -0.19913386,\n",
       "        -0.53513155,  1.05402455]])"
      ]
     },
     "execution_count": 70,
     "metadata": {},
     "output_type": "execute_result"
    }
   ],
   "source": [
    "scaled_test"
   ]
  },
  {
   "cell_type": "markdown",
   "id": "53a466a1",
   "metadata": {},
   "source": [
    "# Model Building"
   ]
  },
  {
   "cell_type": "code",
   "execution_count": 71,
   "id": "658b18b6",
   "metadata": {},
   "outputs": [
    {
     "name": "stdout",
     "output_type": "stream",
     "text": [
      "0.6373411534701857\n",
      "0.6304780876494023\n",
      "[[671 384]\n",
      " [358 633]]\n",
      "              precision    recall  f1-score   support\n",
      "\n",
      "           0       0.65      0.64      0.64      1055\n",
      "           1       0.62      0.64      0.63       991\n",
      "\n",
      "    accuracy                           0.64      2046\n",
      "   macro avg       0.64      0.64      0.64      2046\n",
      "weighted avg       0.64      0.64      0.64      2046\n",
      "\n"
     ]
    }
   ],
   "source": [
    "# Let's start with basic one\n",
    "lr=LogisticRegression()\n",
    "lr.fit(scaled_train, ytrain)\n",
    "ypredicted=lr.predict(scaled_test)\n",
    "print(accuracy_score(ytest,ypredicted))\n",
    "print(f1_score(ytest,ypredicted))\n",
    "print(confusion_matrix(ytest,ypredicted))\n",
    "print(classification_report(ytest,ypredicted))"
   ]
  },
  {
   "cell_type": "code",
   "execution_count": 72,
   "id": "d8df42e4",
   "metadata": {},
   "outputs": [
    {
     "data": {
      "text/plain": [
       "GridSearchCV(cv=5, estimator=LogisticRegression(solver='liblinear'),\n",
       "             param_grid={'C': [0.1, 10, 50], 'fit_intercept': [True],\n",
       "                         'intercept_scaling': [1], 'max_iter': [300, 500],\n",
       "                         'penalty': ['l2'], 'tol': [0.0001, 1e-06]})"
      ]
     },
     "execution_count": 72,
     "metadata": {},
     "output_type": "execute_result"
    }
   ],
   "source": [
    "# Fit logistic regression with degree 2 polynomial kernel\n",
    "# Hyper parameter tuning\n",
    "\n",
    "param_grid = {'C': [0.1,10,50], 'max_iter': [300,500], 'fit_intercept':[True],'intercept_scaling':[1],'penalty':['l2'],\n",
    "              'tol':[0.0001,0.000001]}\n",
    "grid_log = GridSearchCV(LogisticRegression(solver = 'liblinear'),param_grid, cv=5, refit=True)\n",
    "grid_log.fit(Xtrain,ytrain)"
   ]
  },
  {
   "cell_type": "code",
   "execution_count": 73,
   "id": "9b75d702",
   "metadata": {},
   "outputs": [
    {
     "name": "stdout",
     "output_type": "stream",
     "text": [
      "0.6348973607038123\n",
      "0.6347779208635552\n",
      "[[668 387]\n",
      " [360 631]]\n",
      "              precision    recall  f1-score   support\n",
      "\n",
      "           0       0.65      0.63      0.64      1055\n",
      "           1       0.62      0.64      0.63       991\n",
      "\n",
      "    accuracy                           0.63      2046\n",
      "   macro avg       0.63      0.63      0.63      2046\n",
      "weighted avg       0.64      0.63      0.63      2046\n",
      "\n"
     ]
    }
   ],
   "source": [
    "# Predictions\n",
    "\n",
    "ypredicted_log = grid_log.predict(Xtest)\n",
    "print(accuracy_score(ytest,ypredicted_log))\n",
    "print(f1_score(ytest,ypredicted_log,average='macro'))\n",
    "print(confusion_matrix(ytest,ypredicted_log))\n",
    "print(classification_report(ytest,ypredicted_log))"
   ]
  },
  {
   "cell_type": "code",
   "execution_count": 74,
   "id": "c8bbe01d",
   "metadata": {},
   "outputs": [
    {
     "data": {
      "text/plain": [
       "GridSearchCV(cv=5, estimator=LogisticRegression(solver='liblinear'),\n",
       "             param_grid={'C': [0.1, 10, 50], 'fit_intercept': [True],\n",
       "                         'intercept_scaling': [1], 'max_iter': [300, 500],\n",
       "                         'penalty': ['l2'], 'tol': [0.0001, 1e-06]})"
      ]
     },
     "execution_count": 74,
     "metadata": {},
     "output_type": "execute_result"
    }
   ],
   "source": [
    "# Fit logistic regression with degree 2 polynomial kernel.\n",
    "# Testing againt scaled data\n",
    "\n",
    "param_grid = {'C': [0.1,10,50], 'max_iter': [300,500], 'fit_intercept':[True],'intercept_scaling':[1],'penalty':['l2'],\n",
    "              'tol':[0.0001,0.000001]}\n",
    "grid_log_scaled = GridSearchCV(LogisticRegression(solver = 'liblinear'),param_grid, cv=5, refit=True)\n",
    "grid_log_scaled.fit(scaled_train,ytrain)"
   ]
  },
  {
   "cell_type": "code",
   "execution_count": 75,
   "id": "17f68f28",
   "metadata": {},
   "outputs": [
    {
     "name": "stdout",
     "output_type": "stream",
     "text": [
      "0.6388074291300098\n",
      "0.6387017009523067\n",
      "[[671 384]\n",
      " [355 636]]\n",
      "              precision    recall  f1-score   support\n",
      "\n",
      "           0       0.65      0.64      0.64      1055\n",
      "           1       0.62      0.64      0.63       991\n",
      "\n",
      "    accuracy                           0.64      2046\n",
      "   macro avg       0.64      0.64      0.64      2046\n",
      "weighted avg       0.64      0.64      0.64      2046\n",
      "\n"
     ]
    }
   ],
   "source": [
    "ypredicted_log_scaled = grid_log_scaled.predict(scaled_test)\n",
    "print(accuracy_score(ytest,ypredicted_log_scaled))\n",
    "print(f1_score(ytest,ypredicted_log_scaled,average='macro'))\n",
    "print(confusion_matrix(ytest,ypredicted_log_scaled))\n",
    "print(classification_report(ytest,ypredicted_log_scaled))"
   ]
  },
  {
   "cell_type": "code",
   "execution_count": 76,
   "id": "ad7121d7",
   "metadata": {},
   "outputs": [
    {
     "name": "stdout",
     "output_type": "stream",
     "text": [
      "0.6886608015640274\n",
      "0.6884964221241056\n",
      "[[681 374]\n",
      " [263 728]]\n",
      "              precision    recall  f1-score   support\n",
      "\n",
      "           0       0.72      0.65      0.68      1055\n",
      "           1       0.66      0.73      0.70       991\n",
      "\n",
      "    accuracy                           0.69      2046\n",
      "   macro avg       0.69      0.69      0.69      2046\n",
      "weighted avg       0.69      0.69      0.69      2046\n",
      "\n"
     ]
    }
   ],
   "source": [
    "# Decision Tree classifier. \n",
    "# Scaling is not reqiured\n",
    "\n",
    "dtree=DecisionTreeClassifier(max_depth=10, min_samples_split=2, min_samples_leaf=3).fit(Xtrain,ytrain)\n",
    "ypredicted_tree = dtree.predict(Xtest)\n",
    "\n",
    "print(accuracy_score(ytest,ypredicted_tree))\n",
    "print(f1_score(ytest,ypredicted_tree,average='macro'))\n",
    "print(confusion_matrix(ytest,ypredicted_tree))\n",
    "print(classification_report(ytest,ypredicted_tree))"
   ]
  },
  {
   "cell_type": "code",
   "execution_count": 77,
   "id": "3b7b831e",
   "metadata": {},
   "outputs": [
    {
     "data": {
      "text/plain": [
       "GridSearchCV(cv=10,\n",
       "             estimator=DecisionTreeClassifier(max_depth=10, min_samples_leaf=3),\n",
       "             n_jobs=-1,\n",
       "             param_grid={'max_depth': [10, 19, 28, 37, 46, 55, 64, 73, 82, 91,\n",
       "                                       100],\n",
       "                         'max_features': ['auto', 'sqrt'],\n",
       "                         'min_samples_leaf': [1, 2, 3, 5],\n",
       "                         'min_samples_split': [2, 5, 10, 15]})"
      ]
     },
     "execution_count": 77,
     "metadata": {},
     "output_type": "execute_result"
    }
   ],
   "source": [
    "# Gridsearch for decisiontreeClassifier\n",
    "# Hyperparameter tunding for Decision tree\n",
    "\n",
    "param_grid={'max_features':['auto','sqrt'],\n",
    "            'max_depth':[int(x) for x in np.linspace(start=10,stop=100,num=11)],\n",
    "            'min_samples_leaf':[1,2,3,5],\n",
    "            'min_samples_split':[2,5,10,15]}\n",
    "grid_dtree = GridSearchCV(dtree,param_grid,cv=10,n_jobs=-1)\n",
    "grid_dtree.fit(Xtrain,ytrain)"
   ]
  },
  {
   "cell_type": "code",
   "execution_count": 78,
   "id": "ad4652a2",
   "metadata": {},
   "outputs": [
    {
     "data": {
      "text/plain": [
       "(0.8431540342298287,\n",
       " DecisionTreeClassifier(max_depth=46, max_features='auto'),\n",
       " 0.8431540342298287,\n",
       " {'max_depth': 46,\n",
       "  'max_features': 'auto',\n",
       "  'min_samples_leaf': 1,\n",
       "  'min_samples_split': 2})"
      ]
     },
     "execution_count": 78,
     "metadata": {},
     "output_type": "execute_result"
    }
   ],
   "source": [
    "grid_dtree.best_score_, grid_dtree.best_estimator_, grid_dtree.best_score_, grid_dtree.best_params_"
   ]
  },
  {
   "cell_type": "code",
   "execution_count": 79,
   "id": "d4e82365",
   "metadata": {},
   "outputs": [
    {
     "name": "stdout",
     "output_type": "stream",
     "text": [
      "0.8528836754643206\n",
      "0.8519898049309814\n",
      "[[793 262]\n",
      " [ 39 952]]\n",
      "              precision    recall  f1-score   support\n",
      "\n",
      "           0       0.95      0.75      0.84      1055\n",
      "           1       0.78      0.96      0.86       991\n",
      "\n",
      "    accuracy                           0.85      2046\n",
      "   macro avg       0.87      0.86      0.85      2046\n",
      "weighted avg       0.87      0.85      0.85      2046\n",
      "\n"
     ]
    }
   ],
   "source": [
    "# predictions and accuracy\n",
    "\n",
    "ypredicted_grid_dtree = grid_dtree.predict(Xtest)\n",
    "\n",
    "print(accuracy_score(ytest,ypredicted_grid_dtree))\n",
    "print(f1_score(ytest,ypredicted_grid_dtree,average='macro'))\n",
    "print(confusion_matrix(ytest,ypredicted_grid_dtree))\n",
    "print(classification_report(ytest,ypredicted_grid_dtree))"
   ]
  },
  {
   "cell_type": "code",
   "execution_count": 80,
   "id": "7a4fa75e",
   "metadata": {},
   "outputs": [
    {
     "name": "stdout",
     "output_type": "stream",
     "text": [
      "0.9125122189638318\n",
      "0.9124969805659549\n",
      "[[920 135]\n",
      " [ 44 947]]\n",
      "              precision    recall  f1-score   support\n",
      "\n",
      "           0       0.95      0.87      0.91      1055\n",
      "           1       0.88      0.96      0.91       991\n",
      "\n",
      "    accuracy                           0.91      2046\n",
      "   macro avg       0.91      0.91      0.91      2046\n",
      "weighted avg       0.92      0.91      0.91      2046\n",
      "\n"
     ]
    }
   ],
   "source": [
    "rf = RandomForestClassifier(max_depth=46, min_samples_split=2, min_samples_leaf=1,max_features='auto',n_estimators=101)\n",
    "# param_grid={'n_estimators':[int(x) for x in np.linspace(start=200,stop=1200,num=11)],\n",
    "#             'max_features':['auto','sqrt'],\n",
    "#             'max_depth':[int(x) for x in np.linspace(start=10,stop=100,num=11)],\n",
    "#             'min_samples_leaf':[1,2,3,5],\n",
    "#             'min_samples_split':[2,5,10,15]}\n",
    "# rf = GridSearchCV(rf,param_grid,cv=10,n_jobs=-1)\n",
    "rf.fit(Xtrain,ytrain)\n",
    "\n",
    "ypredicted_rf = rf.predict(Xtest)\n",
    "\n",
    "print(accuracy_score(ytest,ypredicted_rf))\n",
    "print(f1_score(ytest,ypredicted_rf,average='macro'))\n",
    "print(confusion_matrix(ytest,ypredicted_rf))\n",
    "print(classification_report(ytest,ypredicted_rf))"
   ]
  },
  {
   "cell_type": "code",
   "execution_count": 85,
   "id": "959eae7e",
   "metadata": {},
   "outputs": [
    {
     "name": "stdout",
     "output_type": "stream",
     "text": [
      "[00:56:30] WARNING: C:/Users/Administrator/workspace/xgboost-win64_release_1.5.1/src/learner.cc:576: \n",
      "Parameters: { \"max_features\", \"min_samples_leaf\", \"min_samples_split\" } might not be used.\n",
      "\n",
      "  This could be a false alarm, with some parameters getting used by language bindings but\n",
      "  then being mistakenly passed down to XGBoost core, or some parameter actually being used\n",
      "  but getting flagged wrongly here. Please open an issue if you find any such cases.\n",
      "\n",
      "\n",
      "[00:56:30] WARNING: C:/Users/Administrator/workspace/xgboost-win64_release_1.5.1/src/learner.cc:1115: Starting in XGBoost 1.3.0, the default evaluation metric used with the objective 'binary:logistic' was changed from 'error' to 'logloss'. Explicitly set eval_metric if you'd like to restore the old behavior.\n",
      "0.8822091886608016\n",
      "0.8819546904771767\n",
      "[[855 200]\n",
      " [ 41 950]]\n",
      "              precision    recall  f1-score   support\n",
      "\n",
      "           0       0.95      0.81      0.88      1055\n",
      "           1       0.83      0.96      0.89       991\n",
      "\n",
      "    accuracy                           0.88      2046\n",
      "   macro avg       0.89      0.88      0.88      2046\n",
      "weighted avg       0.89      0.88      0.88      2046\n",
      "\n"
     ]
    }
   ],
   "source": [
    "from xgboost import XGBClassifier\n",
    "xgb = XGBClassifier(max_depth=46, min_samples_split=2, min_samples_leaf=1,max_features='auto',n_estimators=101,learning_rate=0.051,gamma=0.5)\n",
    "xgb.fit(Xtrain, ytrain)\n",
    "\n",
    "ypredicted_xgb = xgb.predict(Xtest)\n",
    "\n",
    "print(accuracy_score(ytest,ypredicted_xgb))\n",
    "print(f1_score(ytest,ypredicted_xgb,average='macro'))\n",
    "print(confusion_matrix(ytest,ypredicted_xgb))\n",
    "print(classification_report(ytest,ypredicted_xgb))"
   ]
  },
  {
   "cell_type": "code",
   "execution_count": 86,
   "id": "d7f712f0",
   "metadata": {},
   "outputs": [
    {
     "name": "stdout",
     "output_type": "stream",
     "text": [
      "[20]\ttraining's binary_logloss: 0.605589\tvalid_0's binary_logloss: 0.620674\n",
      "[40]\ttraining's binary_logloss: 0.562389\tvalid_0's binary_logloss: 0.595111\n",
      "[60]\ttraining's binary_logloss: 0.530417\tvalid_0's binary_logloss: 0.576092\n",
      "[80]\ttraining's binary_logloss: 0.501382\tvalid_0's binary_logloss: 0.558087\n",
      "[100]\ttraining's binary_logloss: 0.473244\tvalid_0's binary_logloss: 0.542357\n"
     ]
    },
    {
     "data": {
      "text/plain": [
       "LGBMClassifier(learning_rate=0.09, max_depth=46, random_state=42)"
      ]
     },
     "execution_count": 86,
     "metadata": {},
     "output_type": "execute_result"
    }
   ],
   "source": [
    "import lightgbm as lgb\n",
    "model = lgb.LGBMClassifier(learning_rate=0.09,max_depth=46,random_state=42)\n",
    "model.fit(Xtrain,ytrain,eval_set=[(Xtest,ytest),(Xtrain,ytrain)],\n",
    "          verbose=20,eval_metric='logloss')"
   ]
  },
  {
   "cell_type": "code",
   "execution_count": 87,
   "id": "b312d0c5",
   "metadata": {},
   "outputs": [
    {
     "name": "stdout",
     "output_type": "stream",
     "text": [
      "[[749 306]\n",
      " [199 792]]\n",
      "0.7531769305962854\n",
      "F1-Score 0.7530678611092456\n",
      "              precision    recall  f1-score   support\n",
      "\n",
      "           0       0.79      0.71      0.75      1055\n",
      "           1       0.72      0.80      0.76       991\n",
      "\n",
      "    accuracy                           0.75      2046\n",
      "   macro avg       0.76      0.75      0.75      2046\n",
      "weighted avg       0.76      0.75      0.75      2046\n",
      "\n"
     ]
    }
   ],
   "source": [
    "y_pred_lgbm=model.predict(Xtest)\n",
    "print(confusion_matrix(ytest,y_pred_lgbm))\n",
    "print(accuracy_score(ytest,y_pred_lgbm))\n",
    "print(\"F1-Score\",f1_score(ytest,y_pred_lgbm,average='macro'))\n",
    "print(classification_report(ytest,y_pred_lgbm))"
   ]
  },
  {
   "cell_type": "code",
   "execution_count": 88,
   "id": "b98764c0",
   "metadata": {},
   "outputs": [
    {
     "name": "stdout",
     "output_type": "stream",
     "text": [
      "[20]\ttraining's binary_logloss: 0.602019\tvalid_0's binary_logloss: 0.614605\n",
      "[40]\ttraining's binary_logloss: 0.561913\tvalid_0's binary_logloss: 0.589838\n",
      "[60]\ttraining's binary_logloss: 0.530082\tvalid_0's binary_logloss: 0.570816\n",
      "[80]\ttraining's binary_logloss: 0.500956\tvalid_0's binary_logloss: 0.552392\n",
      "[100]\ttraining's binary_logloss: 0.476368\tvalid_0's binary_logloss: 0.539105\n"
     ]
    },
    {
     "data": {
      "text/plain": [
       "LGBMClassifier(learning_rate=0.09, max_depth=46, random_state=42)"
      ]
     },
     "execution_count": 88,
     "metadata": {},
     "output_type": "execute_result"
    }
   ],
   "source": [
    "import lightgbm as lgb\n",
    "model_lgb = lgb.LGBMClassifier(learning_rate=0.09,max_depth=46,random_state=42)\n",
    "model_lgb.fit(scaled_train,ytrain,eval_set=[(scaled_test,ytest),(scaled_train,ytrain)],\n",
    "          verbose=20,eval_metric='logloss')"
   ]
  },
  {
   "cell_type": "code",
   "execution_count": 89,
   "id": "1f72c197",
   "metadata": {},
   "outputs": [
    {
     "name": "stdout",
     "output_type": "stream",
     "text": [
      "[[770 285]\n",
      " [194 797]]\n",
      "0.7658846529814272\n",
      "F1-Score 0.765843875369231\n",
      "              precision    recall  f1-score   support\n",
      "\n",
      "           0       0.80      0.73      0.76      1055\n",
      "           1       0.74      0.80      0.77       991\n",
      "\n",
      "    accuracy                           0.77      2046\n",
      "   macro avg       0.77      0.77      0.77      2046\n",
      "weighted avg       0.77      0.77      0.77      2046\n",
      "\n"
     ]
    }
   ],
   "source": [
    "y_pred_lgbm_1=model_lgb.predict(scaled_test)\n",
    "print(confusion_matrix(ytest,y_pred_lgbm_1))\n",
    "print(accuracy_score(ytest,y_pred_lgbm_1))\n",
    "print(\"F1-Score\",f1_score(ytest,y_pred_lgbm_1,average='macro'))\n",
    "print(classification_report(ytest,y_pred_lgbm_1))"
   ]
  },
  {
   "cell_type": "markdown",
   "id": "04c9d719",
   "metadata": {},
   "source": [
    "# SMOTE "
   ]
  },
  {
   "cell_type": "code",
   "execution_count": 90,
   "id": "ae598e61",
   "metadata": {},
   "outputs": [
    {
     "data": {
      "text/plain": [
       "0    5113\n",
       "1    1537\n",
       "Name: Is_Churn, dtype: int64"
      ]
     },
     "execution_count": 90,
     "metadata": {},
     "output_type": "execute_result"
    }
   ],
   "source": [
    "train['Is_Churn'].value_counts()"
   ]
  },
  {
   "cell_type": "code",
   "execution_count": 91,
   "id": "b973b325",
   "metadata": {},
   "outputs": [],
   "source": [
    "sm = SMOTE()\n",
    "Xtrain_sm, ytrain_sm = sm.fit_resample(Xtrain, ytrain)"
   ]
  },
  {
   "cell_type": "code",
   "execution_count": 92,
   "id": "562b0d63",
   "metadata": {},
   "outputs": [
    {
     "data": {
      "text/plain": [
       "0    4122\n",
       "1    4122\n",
       "Name: Is_Churn, dtype: int64"
      ]
     },
     "execution_count": 92,
     "metadata": {},
     "output_type": "execute_result"
    }
   ],
   "source": [
    "ytrain_sm.value_counts()"
   ]
  },
  {
   "cell_type": "code",
   "execution_count": 93,
   "id": "59d08d02",
   "metadata": {},
   "outputs": [
    {
     "name": "stdout",
     "output_type": "stream",
     "text": [
      "0.6862170087976539\n",
      "0.6860718229139282\n",
      "[[680 375]\n",
      " [267 724]]\n",
      "              precision    recall  f1-score   support\n",
      "\n",
      "           0       0.72      0.64      0.68      1055\n",
      "           1       0.66      0.73      0.69       991\n",
      "\n",
      "    accuracy                           0.69      2046\n",
      "   macro avg       0.69      0.69      0.69      2046\n",
      "weighted avg       0.69      0.69      0.69      2046\n",
      "\n"
     ]
    }
   ],
   "source": [
    "# Decision Tree classifier. \n",
    "# Scaling is not reqiured\n",
    "\n",
    "dtree_sm = DecisionTreeClassifier(max_depth=10, min_samples_split=2, min_samples_leaf=3).fit(Xtrain,ytrain)\n",
    "ypredicted_tree_sm = dtree_sm.predict(Xtest)\n",
    "\n",
    "print(accuracy_score(ytest,ypredicted_tree_sm))\n",
    "print(f1_score(ytest,ypredicted_tree_sm,average='macro'))\n",
    "print(confusion_matrix(ytest,ypredicted_tree_sm))\n",
    "print(classification_report(ytest,ypredicted_tree_sm))"
   ]
  },
  {
   "cell_type": "code",
   "execution_count": 94,
   "id": "e18dafe6",
   "metadata": {},
   "outputs": [
    {
     "data": {
      "text/plain": [
       "GridSearchCV(cv=10,\n",
       "             estimator=DecisionTreeClassifier(max_depth=10, min_samples_leaf=3),\n",
       "             n_jobs=-1,\n",
       "             param_grid={'max_depth': [10, 24, 38, 52, 66, 80, 94, 108, 122,\n",
       "                                       136, 150],\n",
       "                         'max_features': ['auto', 'sqrt'],\n",
       "                         'min_samples_leaf': [1, 2, 3, 5],\n",
       "                         'min_samples_split': [2, 5, 10, 15]})"
      ]
     },
     "execution_count": 94,
     "metadata": {},
     "output_type": "execute_result"
    }
   ],
   "source": [
    "# Gridsearch for decisiontreeClassifier\n",
    "# Hyperparameter tunding for Decision tree\n",
    "\n",
    "param_grid={'max_features':['auto','sqrt'],\n",
    "            'max_depth':[int(x) for x in np.linspace(start=10,stop=150,num=11)],\n",
    "            'min_samples_leaf':[1,2,3,5],\n",
    "            'min_samples_split':[2,5,10,15]}\n",
    "grid_dtree_sm = GridSearchCV(dtree_sm,param_grid,cv=10,n_jobs=-1)\n",
    "grid_dtree_sm.fit(Xtrain_sm,ytrain_sm)"
   ]
  },
  {
   "cell_type": "code",
   "execution_count": 95,
   "id": "c392c717",
   "metadata": {},
   "outputs": [
    {
     "data": {
      "text/plain": [
       "{'max_depth': 38,\n",
       " 'max_features': 'auto',\n",
       " 'min_samples_leaf': 1,\n",
       " 'min_samples_split': 2}"
      ]
     },
     "execution_count": 95,
     "metadata": {},
     "output_type": "execute_result"
    }
   ],
   "source": [
    "grid_dtree_sm.best_params_"
   ]
  },
  {
   "cell_type": "code",
   "execution_count": 96,
   "id": "716b7603",
   "metadata": {},
   "outputs": [
    {
     "name": "stdout",
     "output_type": "stream",
     "text": [
      "0.8475073313782991\n",
      "0.846592482081885\n",
      "[[788 267]\n",
      " [ 45 946]]\n",
      "              precision    recall  f1-score   support\n",
      "\n",
      "           0       0.95      0.75      0.83      1055\n",
      "           1       0.78      0.95      0.86       991\n",
      "\n",
      "    accuracy                           0.85      2046\n",
      "   macro avg       0.86      0.85      0.85      2046\n",
      "weighted avg       0.87      0.85      0.85      2046\n",
      "\n"
     ]
    }
   ],
   "source": [
    "# predictions and accuracy\n",
    "\n",
    "ypredicted_grid_dtree_sm = grid_dtree_sm.predict(Xtest)\n",
    "\n",
    "print(accuracy_score(ytest,ypredicted_grid_dtree_sm))\n",
    "print(f1_score(ytest,ypredicted_grid_dtree_sm,average='macro'))\n",
    "print(confusion_matrix(ytest,ypredicted_grid_dtree_sm))\n",
    "print(classification_report(ytest,ypredicted_grid_dtree_sm))"
   ]
  },
  {
   "cell_type": "code",
   "execution_count": 100,
   "id": "5ae516f1",
   "metadata": {},
   "outputs": [
    {
     "name": "stdout",
     "output_type": "stream",
     "text": [
      "0.9125122189638318\n",
      "0.9134822750017618\n",
      "[[925 130]\n",
      " [ 47 944]]\n",
      "              precision    recall  f1-score   support\n",
      "\n",
      "           0       0.95      0.88      0.91      1055\n",
      "           1       0.88      0.95      0.91       991\n",
      "\n",
      "    accuracy                           0.91      2046\n",
      "   macro avg       0.92      0.91      0.91      2046\n",
      "weighted avg       0.92      0.91      0.91      2046\n",
      "\n"
     ]
    }
   ],
   "source": [
    "rf_sm = RandomForestClassifier(max_depth=38, min_samples_split=2, min_samples_leaf=1,max_features='auto',n_estimators=999)\n",
    "# param_grid={'n_estimators':[int(x) for x in np.linspace(start=200,stop=1200,num=11)],\n",
    "#             'max_features':['auto','sqrt'],\n",
    "#             'max_depth':[int(x) for x in np.linspace(start=10,stop=100,num=11)],\n",
    "#             'min_samples_leaf':[1,2,3,5],\n",
    "#             'min_samples_split':[2,5,10,15]}\n",
    "# rf = GridSearchCV(rf,param_grid,cv=10,n_jobs=-1)\n",
    "rf_sm.fit(Xtrain_sm,ytrain_sm)\n",
    "\n",
    "ypredicted_rf_sm = rf_sm.predict(Xtest)\n",
    "\n",
    "print(accuracy_score(ytest,ypredicted_rf))\n",
    "print(f1_score(ytest,ypredicted_rf_sm,average='macro'))\n",
    "print(confusion_matrix(ytest,ypredicted_rf_sm))\n",
    "print(classification_report(ytest,ypredicted_rf_sm))"
   ]
  },
  {
   "cell_type": "code",
   "execution_count": 106,
   "id": "68897f67",
   "metadata": {},
   "outputs": [
    {
     "name": "stdout",
     "output_type": "stream",
     "text": [
      "[01:02:01] WARNING: C:/Users/Administrator/workspace/xgboost-win64_release_1.5.1/src/learner.cc:576: \n",
      "Parameters: { \"max_features\", \"min_samples_leaf\", \"min_samples_split\" } might not be used.\n",
      "\n",
      "  This could be a false alarm, with some parameters getting used by language bindings but\n",
      "  then being mistakenly passed down to XGBoost core, or some parameter actually being used\n",
      "  but getting flagged wrongly here. Please open an issue if you find any such cases.\n",
      "\n",
      "\n",
      "[01:02:01] WARNING: C:/Users/Administrator/workspace/xgboost-win64_release_1.5.1/src/learner.cc:1115: Starting in XGBoost 1.3.0, the default evaluation metric used with the objective 'binary:logistic' was changed from 'error' to 'logloss'. Explicitly set eval_metric if you'd like to restore the old behavior.\n",
      "0.8910068426197458\n",
      "0.8908522513466504\n",
      "[[873 182]\n",
      " [ 41 950]]\n",
      "              precision    recall  f1-score   support\n",
      "\n",
      "           0       0.96      0.83      0.89      1055\n",
      "           1       0.84      0.96      0.89       991\n",
      "\n",
      "    accuracy                           0.89      2046\n",
      "   macro avg       0.90      0.89      0.89      2046\n",
      "weighted avg       0.90      0.89      0.89      2046\n",
      "\n"
     ]
    }
   ],
   "source": [
    "from xgboost import XGBClassifier\n",
    "xgb_sm = XGBClassifier(max_depth=38, min_samples_split=2, min_samples_leaf=1,max_features='auto',n_estimators=999,\n",
    "                       learning_rate=0.5)\n",
    "xgb_sm.fit(Xtrain_sm, ytrain_sm)\n",
    "\n",
    "ypredicted_xgb_sm = xgb_sm.predict(Xtest)\n",
    "\n",
    "print(accuracy_score(ytest,ypredicted_xgb_sm))\n",
    "print(f1_score(ytest,ypredicted_xgb_sm,average='macro'))\n",
    "print(confusion_matrix(ytest,ypredicted_xgb_sm))\n",
    "print(classification_report(ytest,ypredicted_xgb_sm))"
   ]
  },
  {
   "cell_type": "code",
   "execution_count": 103,
   "id": "7d58966a",
   "metadata": {},
   "outputs": [
    {
     "name": "stdout",
     "output_type": "stream",
     "text": [
      "[20]\ttraining's binary_logloss: 0.603244\tvalid_0's binary_logloss: 0.616118\n",
      "[40]\ttraining's binary_logloss: 0.558198\tvalid_0's binary_logloss: 0.589783\n",
      "[60]\ttraining's binary_logloss: 0.52479\tvalid_0's binary_logloss: 0.569035\n",
      "[80]\ttraining's binary_logloss: 0.495112\tvalid_0's binary_logloss: 0.551815\n",
      "[100]\ttraining's binary_logloss: 0.468268\tvalid_0's binary_logloss: 0.537075\n"
     ]
    },
    {
     "data": {
      "text/plain": [
       "LGBMClassifier(learning_rate=0.09, max_depth=46, random_state=42)"
      ]
     },
     "execution_count": 103,
     "metadata": {},
     "output_type": "execute_result"
    }
   ],
   "source": [
    "import lightgbm as lgb\n",
    "model_sm = lgb.LGBMClassifier(learning_rate=0.09,max_depth=46,random_state=42)\n",
    "model_sm.fit(Xtrain_sm,ytrain_sm,eval_set=[(Xtest,ytest),(Xtrain_sm,ytrain_sm)],\n",
    "          verbose=20,eval_metric='logloss')"
   ]
  },
  {
   "cell_type": "code",
   "execution_count": 104,
   "id": "7540de2c",
   "metadata": {},
   "outputs": [
    {
     "name": "stdout",
     "output_type": "stream",
     "text": [
      "[[765 290]\n",
      " [205 786]]\n",
      "0.7580645161290323\n",
      "F1-Score 0.7580390259635543\n",
      "              precision    recall  f1-score   support\n",
      "\n",
      "           0       0.79      0.73      0.76      1055\n",
      "           1       0.73      0.79      0.76       991\n",
      "\n",
      "    accuracy                           0.76      2046\n",
      "   macro avg       0.76      0.76      0.76      2046\n",
      "weighted avg       0.76      0.76      0.76      2046\n",
      "\n"
     ]
    }
   ],
   "source": [
    "y_pred_lgb_grid_sm = model_sm.predict(Xtest)\n",
    "print(confusion_matrix(ytest,y_pred_lgb_grid_sm))\n",
    "print(accuracy_score(ytest,y_pred_lgb_grid_sm))\n",
    "print(\"F1-Score\",f1_score(ytest,y_pred_lgb_grid_sm,average='macro'))\n",
    "print(classification_report(ytest,y_pred_lgb_grid_sm))"
   ]
  },
  {
   "cell_type": "markdown",
   "id": "66bc82d6",
   "metadata": {},
   "source": [
    "# Conclusion\n",
    "- We are getting statistically similar accuracy using oversampling or SMOTE. Hence we can consider any one of both. Here i'm considering the SMOTE one.\n",
    "- We are getting best accuracy using Random forest and XGBoost.\n",
    "- Finalising Random Forest as the final model as it is having 2% better accuracy."
   ]
  },
  {
   "cell_type": "markdown",
   "id": "2caae70b",
   "metadata": {},
   "source": [
    "# preprocessing and scaling and predicting againt test.csv"
   ]
  },
  {
   "cell_type": "code",
   "execution_count": 107,
   "id": "4a0dd078",
   "metadata": {},
   "outputs": [],
   "source": [
    "test_df = pd.read_csv(\"C:/Users/Vikitha Reddy/Downloads/test_lTY72QC.csv\")"
   ]
  },
  {
   "cell_type": "code",
   "execution_count": 108,
   "id": "025572a2",
   "metadata": {},
   "outputs": [
    {
     "data": {
      "text/html": [
       "<div>\n",
       "<style scoped>\n",
       "    .dataframe tbody tr th:only-of-type {\n",
       "        vertical-align: middle;\n",
       "    }\n",
       "\n",
       "    .dataframe tbody tr th {\n",
       "        vertical-align: top;\n",
       "    }\n",
       "\n",
       "    .dataframe thead th {\n",
       "        text-align: right;\n",
       "    }\n",
       "</style>\n",
       "<table border=\"1\" class=\"dataframe\">\n",
       "  <thead>\n",
       "    <tr style=\"text-align: right;\">\n",
       "      <th></th>\n",
       "      <th>ID</th>\n",
       "      <th>Age</th>\n",
       "      <th>Gender</th>\n",
       "      <th>Income</th>\n",
       "      <th>Balance</th>\n",
       "      <th>Vintage</th>\n",
       "      <th>Transaction_Status</th>\n",
       "      <th>Product_Holdings</th>\n",
       "      <th>Credit_Card</th>\n",
       "      <th>Credit_Category</th>\n",
       "    </tr>\n",
       "  </thead>\n",
       "  <tbody>\n",
       "    <tr>\n",
       "      <th>0</th>\n",
       "      <td>55480787</td>\n",
       "      <td>50</td>\n",
       "      <td>Female</td>\n",
       "      <td>More than 15L</td>\n",
       "      <td>1008636.39</td>\n",
       "      <td>2</td>\n",
       "      <td>1</td>\n",
       "      <td>2</td>\n",
       "      <td>1</td>\n",
       "      <td>Average</td>\n",
       "    </tr>\n",
       "    <tr>\n",
       "      <th>1</th>\n",
       "      <td>9aededf2</td>\n",
       "      <td>36</td>\n",
       "      <td>Male</td>\n",
       "      <td>5L - 10L</td>\n",
       "      <td>341460.72</td>\n",
       "      <td>2</td>\n",
       "      <td>0</td>\n",
       "      <td>2</td>\n",
       "      <td>1</td>\n",
       "      <td>Average</td>\n",
       "    </tr>\n",
       "    <tr>\n",
       "      <th>2</th>\n",
       "      <td>a5034a09</td>\n",
       "      <td>25</td>\n",
       "      <td>Female</td>\n",
       "      <td>10L - 15L</td>\n",
       "      <td>439460.10</td>\n",
       "      <td>0</td>\n",
       "      <td>0</td>\n",
       "      <td>2</td>\n",
       "      <td>1</td>\n",
       "      <td>Good</td>\n",
       "    </tr>\n",
       "    <tr>\n",
       "      <th>3</th>\n",
       "      <td>b3256702</td>\n",
       "      <td>41</td>\n",
       "      <td>Male</td>\n",
       "      <td>Less than 5L</td>\n",
       "      <td>28581.93</td>\n",
       "      <td>0</td>\n",
       "      <td>1</td>\n",
       "      <td>2</td>\n",
       "      <td>1</td>\n",
       "      <td>Poor</td>\n",
       "    </tr>\n",
       "    <tr>\n",
       "      <th>4</th>\n",
       "      <td>dc28adb5</td>\n",
       "      <td>48</td>\n",
       "      <td>Male</td>\n",
       "      <td>More than 15L</td>\n",
       "      <td>1104540.03</td>\n",
       "      <td>2</td>\n",
       "      <td>1</td>\n",
       "      <td>3+</td>\n",
       "      <td>0</td>\n",
       "      <td>Good</td>\n",
       "    </tr>\n",
       "  </tbody>\n",
       "</table>\n",
       "</div>"
      ],
      "text/plain": [
       "         ID  Age  Gender         Income     Balance  Vintage  \\\n",
       "0  55480787   50  Female  More than 15L  1008636.39        2   \n",
       "1  9aededf2   36    Male       5L - 10L   341460.72        2   \n",
       "2  a5034a09   25  Female      10L - 15L   439460.10        0   \n",
       "3  b3256702   41    Male   Less than 5L    28581.93        0   \n",
       "4  dc28adb5   48    Male  More than 15L  1104540.03        2   \n",
       "\n",
       "   Transaction_Status Product_Holdings  Credit_Card Credit_Category  \n",
       "0                   1                2            1         Average  \n",
       "1                   0                2            1         Average  \n",
       "2                   0                2            1            Good  \n",
       "3                   1                2            1            Poor  \n",
       "4                   1               3+            0            Good  "
      ]
     },
     "execution_count": 108,
     "metadata": {},
     "output_type": "execute_result"
    }
   ],
   "source": [
    "test_df.head()"
   ]
  },
  {
   "cell_type": "code",
   "execution_count": 109,
   "id": "d50e8312",
   "metadata": {},
   "outputs": [],
   "source": [
    "test_Id = test_df['ID']"
   ]
  },
  {
   "cell_type": "code",
   "execution_count": 110,
   "id": "80556252",
   "metadata": {},
   "outputs": [],
   "source": [
    "test_df.drop(['ID'],axis=1,inplace=True)"
   ]
  },
  {
   "cell_type": "code",
   "execution_count": 111,
   "id": "cbdff294",
   "metadata": {},
   "outputs": [
    {
     "data": {
      "text/html": [
       "<div>\n",
       "<style scoped>\n",
       "    .dataframe tbody tr th:only-of-type {\n",
       "        vertical-align: middle;\n",
       "    }\n",
       "\n",
       "    .dataframe tbody tr th {\n",
       "        vertical-align: top;\n",
       "    }\n",
       "\n",
       "    .dataframe thead th {\n",
       "        text-align: right;\n",
       "    }\n",
       "</style>\n",
       "<table border=\"1\" class=\"dataframe\">\n",
       "  <thead>\n",
       "    <tr style=\"text-align: right;\">\n",
       "      <th></th>\n",
       "      <th>Age</th>\n",
       "      <th>Gender</th>\n",
       "      <th>Income</th>\n",
       "      <th>Balance</th>\n",
       "      <th>Vintage</th>\n",
       "      <th>Transaction_Status</th>\n",
       "      <th>Product_Holdings</th>\n",
       "      <th>Credit_Card</th>\n",
       "      <th>Credit_Category</th>\n",
       "    </tr>\n",
       "  </thead>\n",
       "  <tbody>\n",
       "    <tr>\n",
       "      <th>0</th>\n",
       "      <td>50</td>\n",
       "      <td>Female</td>\n",
       "      <td>More than 15L</td>\n",
       "      <td>1008636.39</td>\n",
       "      <td>2</td>\n",
       "      <td>1</td>\n",
       "      <td>2</td>\n",
       "      <td>1</td>\n",
       "      <td>Average</td>\n",
       "    </tr>\n",
       "    <tr>\n",
       "      <th>1</th>\n",
       "      <td>36</td>\n",
       "      <td>Male</td>\n",
       "      <td>5L - 10L</td>\n",
       "      <td>341460.72</td>\n",
       "      <td>2</td>\n",
       "      <td>0</td>\n",
       "      <td>2</td>\n",
       "      <td>1</td>\n",
       "      <td>Average</td>\n",
       "    </tr>\n",
       "    <tr>\n",
       "      <th>2</th>\n",
       "      <td>25</td>\n",
       "      <td>Female</td>\n",
       "      <td>10L - 15L</td>\n",
       "      <td>439460.10</td>\n",
       "      <td>0</td>\n",
       "      <td>0</td>\n",
       "      <td>2</td>\n",
       "      <td>1</td>\n",
       "      <td>Good</td>\n",
       "    </tr>\n",
       "    <tr>\n",
       "      <th>3</th>\n",
       "      <td>41</td>\n",
       "      <td>Male</td>\n",
       "      <td>Less than 5L</td>\n",
       "      <td>28581.93</td>\n",
       "      <td>0</td>\n",
       "      <td>1</td>\n",
       "      <td>2</td>\n",
       "      <td>1</td>\n",
       "      <td>Poor</td>\n",
       "    </tr>\n",
       "    <tr>\n",
       "      <th>4</th>\n",
       "      <td>48</td>\n",
       "      <td>Male</td>\n",
       "      <td>More than 15L</td>\n",
       "      <td>1104540.03</td>\n",
       "      <td>2</td>\n",
       "      <td>1</td>\n",
       "      <td>3+</td>\n",
       "      <td>0</td>\n",
       "      <td>Good</td>\n",
       "    </tr>\n",
       "  </tbody>\n",
       "</table>\n",
       "</div>"
      ],
      "text/plain": [
       "   Age  Gender         Income     Balance  Vintage  Transaction_Status  \\\n",
       "0   50  Female  More than 15L  1008636.39        2                   1   \n",
       "1   36    Male       5L - 10L   341460.72        2                   0   \n",
       "2   25  Female      10L - 15L   439460.10        0                   0   \n",
       "3   41    Male   Less than 5L    28581.93        0                   1   \n",
       "4   48    Male  More than 15L  1104540.03        2                   1   \n",
       "\n",
       "  Product_Holdings  Credit_Card Credit_Category  \n",
       "0                2            1         Average  \n",
       "1                2            1         Average  \n",
       "2                2            1            Good  \n",
       "3                2            1            Poor  \n",
       "4               3+            0            Good  "
      ]
     },
     "execution_count": 111,
     "metadata": {},
     "output_type": "execute_result"
    }
   ],
   "source": [
    "test_df.head()"
   ]
  },
  {
   "cell_type": "code",
   "execution_count": 112,
   "id": "9be6ab1f",
   "metadata": {},
   "outputs": [],
   "source": [
    "test_df = pd.get_dummies(test_df,drop_first=True)"
   ]
  },
  {
   "cell_type": "code",
   "execution_count": 113,
   "id": "4d276a25",
   "metadata": {},
   "outputs": [
    {
     "data": {
      "text/html": [
       "<div>\n",
       "<style scoped>\n",
       "    .dataframe tbody tr th:only-of-type {\n",
       "        vertical-align: middle;\n",
       "    }\n",
       "\n",
       "    .dataframe tbody tr th {\n",
       "        vertical-align: top;\n",
       "    }\n",
       "\n",
       "    .dataframe thead th {\n",
       "        text-align: right;\n",
       "    }\n",
       "</style>\n",
       "<table border=\"1\" class=\"dataframe\">\n",
       "  <thead>\n",
       "    <tr style=\"text-align: right;\">\n",
       "      <th></th>\n",
       "      <th>Age</th>\n",
       "      <th>Balance</th>\n",
       "      <th>Vintage</th>\n",
       "      <th>Transaction_Status</th>\n",
       "      <th>Credit_Card</th>\n",
       "      <th>Gender_Male</th>\n",
       "      <th>Income_5L - 10L</th>\n",
       "      <th>Income_Less than 5L</th>\n",
       "      <th>Income_More than 15L</th>\n",
       "      <th>Product_Holdings_2</th>\n",
       "      <th>Product_Holdings_3+</th>\n",
       "      <th>Credit_Category_Good</th>\n",
       "      <th>Credit_Category_Poor</th>\n",
       "    </tr>\n",
       "  </thead>\n",
       "  <tbody>\n",
       "    <tr>\n",
       "      <th>0</th>\n",
       "      <td>50</td>\n",
       "      <td>1008636.39</td>\n",
       "      <td>2</td>\n",
       "      <td>1</td>\n",
       "      <td>1</td>\n",
       "      <td>0</td>\n",
       "      <td>0</td>\n",
       "      <td>0</td>\n",
       "      <td>1</td>\n",
       "      <td>1</td>\n",
       "      <td>0</td>\n",
       "      <td>0</td>\n",
       "      <td>0</td>\n",
       "    </tr>\n",
       "    <tr>\n",
       "      <th>1</th>\n",
       "      <td>36</td>\n",
       "      <td>341460.72</td>\n",
       "      <td>2</td>\n",
       "      <td>0</td>\n",
       "      <td>1</td>\n",
       "      <td>1</td>\n",
       "      <td>1</td>\n",
       "      <td>0</td>\n",
       "      <td>0</td>\n",
       "      <td>1</td>\n",
       "      <td>0</td>\n",
       "      <td>0</td>\n",
       "      <td>0</td>\n",
       "    </tr>\n",
       "    <tr>\n",
       "      <th>2</th>\n",
       "      <td>25</td>\n",
       "      <td>439460.10</td>\n",
       "      <td>0</td>\n",
       "      <td>0</td>\n",
       "      <td>1</td>\n",
       "      <td>0</td>\n",
       "      <td>0</td>\n",
       "      <td>0</td>\n",
       "      <td>0</td>\n",
       "      <td>1</td>\n",
       "      <td>0</td>\n",
       "      <td>1</td>\n",
       "      <td>0</td>\n",
       "    </tr>\n",
       "    <tr>\n",
       "      <th>3</th>\n",
       "      <td>41</td>\n",
       "      <td>28581.93</td>\n",
       "      <td>0</td>\n",
       "      <td>1</td>\n",
       "      <td>1</td>\n",
       "      <td>1</td>\n",
       "      <td>0</td>\n",
       "      <td>1</td>\n",
       "      <td>0</td>\n",
       "      <td>1</td>\n",
       "      <td>0</td>\n",
       "      <td>0</td>\n",
       "      <td>1</td>\n",
       "    </tr>\n",
       "    <tr>\n",
       "      <th>4</th>\n",
       "      <td>48</td>\n",
       "      <td>1104540.03</td>\n",
       "      <td>2</td>\n",
       "      <td>1</td>\n",
       "      <td>0</td>\n",
       "      <td>1</td>\n",
       "      <td>0</td>\n",
       "      <td>0</td>\n",
       "      <td>1</td>\n",
       "      <td>0</td>\n",
       "      <td>1</td>\n",
       "      <td>1</td>\n",
       "      <td>0</td>\n",
       "    </tr>\n",
       "    <tr>\n",
       "      <th>...</th>\n",
       "      <td>...</td>\n",
       "      <td>...</td>\n",
       "      <td>...</td>\n",
       "      <td>...</td>\n",
       "      <td>...</td>\n",
       "      <td>...</td>\n",
       "      <td>...</td>\n",
       "      <td>...</td>\n",
       "      <td>...</td>\n",
       "      <td>...</td>\n",
       "      <td>...</td>\n",
       "      <td>...</td>\n",
       "      <td>...</td>\n",
       "    </tr>\n",
       "    <tr>\n",
       "      <th>2846</th>\n",
       "      <td>40</td>\n",
       "      <td>1338458.22</td>\n",
       "      <td>0</td>\n",
       "      <td>0</td>\n",
       "      <td>1</td>\n",
       "      <td>0</td>\n",
       "      <td>0</td>\n",
       "      <td>0</td>\n",
       "      <td>0</td>\n",
       "      <td>0</td>\n",
       "      <td>0</td>\n",
       "      <td>0</td>\n",
       "      <td>1</td>\n",
       "    </tr>\n",
       "    <tr>\n",
       "      <th>2847</th>\n",
       "      <td>48</td>\n",
       "      <td>1448280.27</td>\n",
       "      <td>0</td>\n",
       "      <td>1</td>\n",
       "      <td>1</td>\n",
       "      <td>0</td>\n",
       "      <td>0</td>\n",
       "      <td>0</td>\n",
       "      <td>1</td>\n",
       "      <td>1</td>\n",
       "      <td>0</td>\n",
       "      <td>0</td>\n",
       "      <td>0</td>\n",
       "    </tr>\n",
       "    <tr>\n",
       "      <th>2848</th>\n",
       "      <td>59</td>\n",
       "      <td>1100555.64</td>\n",
       "      <td>3</td>\n",
       "      <td>0</td>\n",
       "      <td>1</td>\n",
       "      <td>1</td>\n",
       "      <td>0</td>\n",
       "      <td>0</td>\n",
       "      <td>1</td>\n",
       "      <td>0</td>\n",
       "      <td>0</td>\n",
       "      <td>0</td>\n",
       "      <td>1</td>\n",
       "    </tr>\n",
       "    <tr>\n",
       "      <th>2849</th>\n",
       "      <td>34</td>\n",
       "      <td>1502818.92</td>\n",
       "      <td>2</td>\n",
       "      <td>0</td>\n",
       "      <td>1</td>\n",
       "      <td>0</td>\n",
       "      <td>1</td>\n",
       "      <td>0</td>\n",
       "      <td>0</td>\n",
       "      <td>0</td>\n",
       "      <td>0</td>\n",
       "      <td>0</td>\n",
       "      <td>1</td>\n",
       "    </tr>\n",
       "    <tr>\n",
       "      <th>2850</th>\n",
       "      <td>61</td>\n",
       "      <td>913787.73</td>\n",
       "      <td>0</td>\n",
       "      <td>1</td>\n",
       "      <td>1</td>\n",
       "      <td>0</td>\n",
       "      <td>0</td>\n",
       "      <td>0</td>\n",
       "      <td>0</td>\n",
       "      <td>1</td>\n",
       "      <td>0</td>\n",
       "      <td>1</td>\n",
       "      <td>0</td>\n",
       "    </tr>\n",
       "  </tbody>\n",
       "</table>\n",
       "<p>2851 rows × 13 columns</p>\n",
       "</div>"
      ],
      "text/plain": [
       "      Age     Balance  Vintage  Transaction_Status  Credit_Card  Gender_Male  \\\n",
       "0      50  1008636.39        2                   1            1            0   \n",
       "1      36   341460.72        2                   0            1            1   \n",
       "2      25   439460.10        0                   0            1            0   \n",
       "3      41    28581.93        0                   1            1            1   \n",
       "4      48  1104540.03        2                   1            0            1   \n",
       "...   ...         ...      ...                 ...          ...          ...   \n",
       "2846   40  1338458.22        0                   0            1            0   \n",
       "2847   48  1448280.27        0                   1            1            0   \n",
       "2848   59  1100555.64        3                   0            1            1   \n",
       "2849   34  1502818.92        2                   0            1            0   \n",
       "2850   61   913787.73        0                   1            1            0   \n",
       "\n",
       "      Income_5L - 10L  Income_Less than 5L  Income_More than 15L  \\\n",
       "0                   0                    0                     1   \n",
       "1                   1                    0                     0   \n",
       "2                   0                    0                     0   \n",
       "3                   0                    1                     0   \n",
       "4                   0                    0                     1   \n",
       "...               ...                  ...                   ...   \n",
       "2846                0                    0                     0   \n",
       "2847                0                    0                     1   \n",
       "2848                0                    0                     1   \n",
       "2849                1                    0                     0   \n",
       "2850                0                    0                     0   \n",
       "\n",
       "      Product_Holdings_2  Product_Holdings_3+  Credit_Category_Good  \\\n",
       "0                      1                    0                     0   \n",
       "1                      1                    0                     0   \n",
       "2                      1                    0                     1   \n",
       "3                      1                    0                     0   \n",
       "4                      0                    1                     1   \n",
       "...                  ...                  ...                   ...   \n",
       "2846                   0                    0                     0   \n",
       "2847                   1                    0                     0   \n",
       "2848                   0                    0                     0   \n",
       "2849                   0                    0                     0   \n",
       "2850                   1                    0                     1   \n",
       "\n",
       "      Credit_Category_Poor  \n",
       "0                        0  \n",
       "1                        0  \n",
       "2                        0  \n",
       "3                        1  \n",
       "4                        0  \n",
       "...                    ...  \n",
       "2846                     1  \n",
       "2847                     0  \n",
       "2848                     1  \n",
       "2849                     1  \n",
       "2850                     0  \n",
       "\n",
       "[2851 rows x 13 columns]"
      ]
     },
     "execution_count": 113,
     "metadata": {},
     "output_type": "execute_result"
    }
   ],
   "source": [
    "test_df"
   ]
  },
  {
   "cell_type": "code",
   "execution_count": 149,
   "id": "1848494a",
   "metadata": {},
   "outputs": [],
   "source": [
    "# As decision tree is givng good accuracy saving that as final model\n",
    "# let's save the model\n",
    "# joblib.dump to serialize an object hierarchy \n",
    "# joblib.load to deserialize a data stream\n",
    "\n",
    "import joblib\n",
    "\n",
    "# Save the model as a pickle in a file\n",
    "joblib.dump(xgb_sm, 'finalised_xgb_sm.pkl')\n",
    "\n",
    "# Load the model from the file\n",
    "xgb_sm_from_joblib = joblib.load('finalised_xgb_sm.pkl')\n",
    "\n",
    "# Use the loaded model to make predictions\n",
    "predictions =xgb_sm_from_joblib.predict(test_df)"
   ]
  },
  {
   "cell_type": "code",
   "execution_count": 150,
   "id": "4d18fc3e",
   "metadata": {},
   "outputs": [
    {
     "data": {
      "text/plain": [
       "(2851,)"
      ]
     },
     "execution_count": 150,
     "metadata": {},
     "output_type": "execute_result"
    }
   ],
   "source": [
    "predictions.shape"
   ]
  },
  {
   "cell_type": "code",
   "execution_count": 151,
   "id": "86e0d5e2",
   "metadata": {},
   "outputs": [],
   "source": [
    "index= ['Is_Churn']\n",
    "predictions = pd.DataFrame(data=predictions,columns=['Is_Churn'])"
   ]
  },
  {
   "cell_type": "code",
   "execution_count": 152,
   "id": "0aad44e1",
   "metadata": {},
   "outputs": [
    {
     "data": {
      "text/html": [
       "<div>\n",
       "<style scoped>\n",
       "    .dataframe tbody tr th:only-of-type {\n",
       "        vertical-align: middle;\n",
       "    }\n",
       "\n",
       "    .dataframe tbody tr th {\n",
       "        vertical-align: top;\n",
       "    }\n",
       "\n",
       "    .dataframe thead th {\n",
       "        text-align: right;\n",
       "    }\n",
       "</style>\n",
       "<table border=\"1\" class=\"dataframe\">\n",
       "  <thead>\n",
       "    <tr style=\"text-align: right;\">\n",
       "      <th></th>\n",
       "      <th>Is_Churn</th>\n",
       "    </tr>\n",
       "  </thead>\n",
       "  <tbody>\n",
       "    <tr>\n",
       "      <th>0</th>\n",
       "      <td>0</td>\n",
       "    </tr>\n",
       "    <tr>\n",
       "      <th>1</th>\n",
       "      <td>1</td>\n",
       "    </tr>\n",
       "    <tr>\n",
       "      <th>2</th>\n",
       "      <td>0</td>\n",
       "    </tr>\n",
       "    <tr>\n",
       "      <th>3</th>\n",
       "      <td>0</td>\n",
       "    </tr>\n",
       "    <tr>\n",
       "      <th>4</th>\n",
       "      <td>0</td>\n",
       "    </tr>\n",
       "    <tr>\n",
       "      <th>...</th>\n",
       "      <td>...</td>\n",
       "    </tr>\n",
       "    <tr>\n",
       "      <th>2846</th>\n",
       "      <td>1</td>\n",
       "    </tr>\n",
       "    <tr>\n",
       "      <th>2847</th>\n",
       "      <td>0</td>\n",
       "    </tr>\n",
       "    <tr>\n",
       "      <th>2848</th>\n",
       "      <td>1</td>\n",
       "    </tr>\n",
       "    <tr>\n",
       "      <th>2849</th>\n",
       "      <td>1</td>\n",
       "    </tr>\n",
       "    <tr>\n",
       "      <th>2850</th>\n",
       "      <td>0</td>\n",
       "    </tr>\n",
       "  </tbody>\n",
       "</table>\n",
       "<p>2851 rows × 1 columns</p>\n",
       "</div>"
      ],
      "text/plain": [
       "      Is_Churn\n",
       "0            0\n",
       "1            1\n",
       "2            0\n",
       "3            0\n",
       "4            0\n",
       "...        ...\n",
       "2846         1\n",
       "2847         0\n",
       "2848         1\n",
       "2849         1\n",
       "2850         0\n",
       "\n",
       "[2851 rows x 1 columns]"
      ]
     },
     "execution_count": 152,
     "metadata": {},
     "output_type": "execute_result"
    }
   ],
   "source": [
    "predictions"
   ]
  },
  {
   "cell_type": "code",
   "execution_count": 153,
   "id": "fc2c1655",
   "metadata": {},
   "outputs": [],
   "source": [
    "predictions_1 = pd.concat([test_Id,predictions],axis=1,join='inner')"
   ]
  },
  {
   "cell_type": "code",
   "execution_count": 154,
   "id": "adb1f1b8",
   "metadata": {},
   "outputs": [
    {
     "data": {
      "text/html": [
       "<div>\n",
       "<style scoped>\n",
       "    .dataframe tbody tr th:only-of-type {\n",
       "        vertical-align: middle;\n",
       "    }\n",
       "\n",
       "    .dataframe tbody tr th {\n",
       "        vertical-align: top;\n",
       "    }\n",
       "\n",
       "    .dataframe thead th {\n",
       "        text-align: right;\n",
       "    }\n",
       "</style>\n",
       "<table border=\"1\" class=\"dataframe\">\n",
       "  <thead>\n",
       "    <tr style=\"text-align: right;\">\n",
       "      <th></th>\n",
       "      <th>ID</th>\n",
       "      <th>Is_Churn</th>\n",
       "    </tr>\n",
       "  </thead>\n",
       "  <tbody>\n",
       "    <tr>\n",
       "      <th>0</th>\n",
       "      <td>55480787</td>\n",
       "      <td>0</td>\n",
       "    </tr>\n",
       "    <tr>\n",
       "      <th>1</th>\n",
       "      <td>9aededf2</td>\n",
       "      <td>1</td>\n",
       "    </tr>\n",
       "    <tr>\n",
       "      <th>2</th>\n",
       "      <td>a5034a09</td>\n",
       "      <td>0</td>\n",
       "    </tr>\n",
       "    <tr>\n",
       "      <th>3</th>\n",
       "      <td>b3256702</td>\n",
       "      <td>0</td>\n",
       "    </tr>\n",
       "    <tr>\n",
       "      <th>4</th>\n",
       "      <td>dc28adb5</td>\n",
       "      <td>0</td>\n",
       "    </tr>\n",
       "    <tr>\n",
       "      <th>...</th>\n",
       "      <td>...</td>\n",
       "      <td>...</td>\n",
       "    </tr>\n",
       "    <tr>\n",
       "      <th>2846</th>\n",
       "      <td>19e40adf</td>\n",
       "      <td>1</td>\n",
       "    </tr>\n",
       "    <tr>\n",
       "      <th>2847</th>\n",
       "      <td>52d5bc8d</td>\n",
       "      <td>0</td>\n",
       "    </tr>\n",
       "    <tr>\n",
       "      <th>2848</th>\n",
       "      <td>f708121b</td>\n",
       "      <td>1</td>\n",
       "    </tr>\n",
       "    <tr>\n",
       "      <th>2849</th>\n",
       "      <td>f008715d</td>\n",
       "      <td>1</td>\n",
       "    </tr>\n",
       "    <tr>\n",
       "      <th>2850</th>\n",
       "      <td>36b81f59</td>\n",
       "      <td>0</td>\n",
       "    </tr>\n",
       "  </tbody>\n",
       "</table>\n",
       "<p>2851 rows × 2 columns</p>\n",
       "</div>"
      ],
      "text/plain": [
       "            ID  Is_Churn\n",
       "0     55480787         0\n",
       "1     9aededf2         1\n",
       "2     a5034a09         0\n",
       "3     b3256702         0\n",
       "4     dc28adb5         0\n",
       "...        ...       ...\n",
       "2846  19e40adf         1\n",
       "2847  52d5bc8d         0\n",
       "2848  f708121b         1\n",
       "2849  f008715d         1\n",
       "2850  36b81f59         0\n",
       "\n",
       "[2851 rows x 2 columns]"
      ]
     },
     "execution_count": 154,
     "metadata": {},
     "output_type": "execute_result"
    }
   ],
   "source": [
    "predictions_1"
   ]
  },
  {
   "cell_type": "code",
   "execution_count": 155,
   "id": "2081a57e",
   "metadata": {},
   "outputs": [],
   "source": [
    "predictions_1.reset_index(drop=True, inplace=True)"
   ]
  },
  {
   "cell_type": "code",
   "execution_count": 156,
   "id": "ba5dd7b9",
   "metadata": {},
   "outputs": [
    {
     "data": {
      "text/html": [
       "<div>\n",
       "<style scoped>\n",
       "    .dataframe tbody tr th:only-of-type {\n",
       "        vertical-align: middle;\n",
       "    }\n",
       "\n",
       "    .dataframe tbody tr th {\n",
       "        vertical-align: top;\n",
       "    }\n",
       "\n",
       "    .dataframe thead th {\n",
       "        text-align: right;\n",
       "    }\n",
       "</style>\n",
       "<table border=\"1\" class=\"dataframe\">\n",
       "  <thead>\n",
       "    <tr style=\"text-align: right;\">\n",
       "      <th></th>\n",
       "      <th>ID</th>\n",
       "      <th>Is_Churn</th>\n",
       "    </tr>\n",
       "  </thead>\n",
       "  <tbody>\n",
       "    <tr>\n",
       "      <th>0</th>\n",
       "      <td>55480787</td>\n",
       "      <td>0</td>\n",
       "    </tr>\n",
       "    <tr>\n",
       "      <th>1</th>\n",
       "      <td>9aededf2</td>\n",
       "      <td>1</td>\n",
       "    </tr>\n",
       "    <tr>\n",
       "      <th>2</th>\n",
       "      <td>a5034a09</td>\n",
       "      <td>0</td>\n",
       "    </tr>\n",
       "    <tr>\n",
       "      <th>3</th>\n",
       "      <td>b3256702</td>\n",
       "      <td>0</td>\n",
       "    </tr>\n",
       "    <tr>\n",
       "      <th>4</th>\n",
       "      <td>dc28adb5</td>\n",
       "      <td>0</td>\n",
       "    </tr>\n",
       "    <tr>\n",
       "      <th>...</th>\n",
       "      <td>...</td>\n",
       "      <td>...</td>\n",
       "    </tr>\n",
       "    <tr>\n",
       "      <th>2846</th>\n",
       "      <td>19e40adf</td>\n",
       "      <td>1</td>\n",
       "    </tr>\n",
       "    <tr>\n",
       "      <th>2847</th>\n",
       "      <td>52d5bc8d</td>\n",
       "      <td>0</td>\n",
       "    </tr>\n",
       "    <tr>\n",
       "      <th>2848</th>\n",
       "      <td>f708121b</td>\n",
       "      <td>1</td>\n",
       "    </tr>\n",
       "    <tr>\n",
       "      <th>2849</th>\n",
       "      <td>f008715d</td>\n",
       "      <td>1</td>\n",
       "    </tr>\n",
       "    <tr>\n",
       "      <th>2850</th>\n",
       "      <td>36b81f59</td>\n",
       "      <td>0</td>\n",
       "    </tr>\n",
       "  </tbody>\n",
       "</table>\n",
       "<p>2851 rows × 2 columns</p>\n",
       "</div>"
      ],
      "text/plain": [
       "            ID  Is_Churn\n",
       "0     55480787         0\n",
       "1     9aededf2         1\n",
       "2     a5034a09         0\n",
       "3     b3256702         0\n",
       "4     dc28adb5         0\n",
       "...        ...       ...\n",
       "2846  19e40adf         1\n",
       "2847  52d5bc8d         0\n",
       "2848  f708121b         1\n",
       "2849  f008715d         1\n",
       "2850  36b81f59         0\n",
       "\n",
       "[2851 rows x 2 columns]"
      ]
     },
     "execution_count": 156,
     "metadata": {},
     "output_type": "execute_result"
    }
   ],
   "source": [
    "predictions_1"
   ]
  },
  {
   "cell_type": "code",
   "execution_count": 157,
   "id": "b2f95904",
   "metadata": {},
   "outputs": [],
   "source": [
    "predictions_1.set_index(['ID'], inplace=True)"
   ]
  },
  {
   "cell_type": "code",
   "execution_count": 158,
   "id": "a4a57b6e",
   "metadata": {},
   "outputs": [
    {
     "data": {
      "text/html": [
       "<div>\n",
       "<style scoped>\n",
       "    .dataframe tbody tr th:only-of-type {\n",
       "        vertical-align: middle;\n",
       "    }\n",
       "\n",
       "    .dataframe tbody tr th {\n",
       "        vertical-align: top;\n",
       "    }\n",
       "\n",
       "    .dataframe thead th {\n",
       "        text-align: right;\n",
       "    }\n",
       "</style>\n",
       "<table border=\"1\" class=\"dataframe\">\n",
       "  <thead>\n",
       "    <tr style=\"text-align: right;\">\n",
       "      <th></th>\n",
       "      <th>Is_Churn</th>\n",
       "    </tr>\n",
       "    <tr>\n",
       "      <th>ID</th>\n",
       "      <th></th>\n",
       "    </tr>\n",
       "  </thead>\n",
       "  <tbody>\n",
       "    <tr>\n",
       "      <th>55480787</th>\n",
       "      <td>0</td>\n",
       "    </tr>\n",
       "    <tr>\n",
       "      <th>9aededf2</th>\n",
       "      <td>1</td>\n",
       "    </tr>\n",
       "    <tr>\n",
       "      <th>a5034a09</th>\n",
       "      <td>0</td>\n",
       "    </tr>\n",
       "    <tr>\n",
       "      <th>b3256702</th>\n",
       "      <td>0</td>\n",
       "    </tr>\n",
       "    <tr>\n",
       "      <th>dc28adb5</th>\n",
       "      <td>0</td>\n",
       "    </tr>\n",
       "    <tr>\n",
       "      <th>...</th>\n",
       "      <td>...</td>\n",
       "    </tr>\n",
       "    <tr>\n",
       "      <th>19e40adf</th>\n",
       "      <td>1</td>\n",
       "    </tr>\n",
       "    <tr>\n",
       "      <th>52d5bc8d</th>\n",
       "      <td>0</td>\n",
       "    </tr>\n",
       "    <tr>\n",
       "      <th>f708121b</th>\n",
       "      <td>1</td>\n",
       "    </tr>\n",
       "    <tr>\n",
       "      <th>f008715d</th>\n",
       "      <td>1</td>\n",
       "    </tr>\n",
       "    <tr>\n",
       "      <th>36b81f59</th>\n",
       "      <td>0</td>\n",
       "    </tr>\n",
       "  </tbody>\n",
       "</table>\n",
       "<p>2851 rows × 1 columns</p>\n",
       "</div>"
      ],
      "text/plain": [
       "          Is_Churn\n",
       "ID                \n",
       "55480787         0\n",
       "9aededf2         1\n",
       "a5034a09         0\n",
       "b3256702         0\n",
       "dc28adb5         0\n",
       "...            ...\n",
       "19e40adf         1\n",
       "52d5bc8d         0\n",
       "f708121b         1\n",
       "f008715d         1\n",
       "36b81f59         0\n",
       "\n",
       "[2851 rows x 1 columns]"
      ]
     },
     "execution_count": 158,
     "metadata": {},
     "output_type": "execute_result"
    }
   ],
   "source": [
    "predictions_1"
   ]
  },
  {
   "cell_type": "code",
   "execution_count": 159,
   "id": "be4c1115",
   "metadata": {},
   "outputs": [],
   "source": [
    "predictions_1.to_csv('sample_submission.csv')"
   ]
  },
  {
   "cell_type": "code",
   "execution_count": null,
   "id": "847ce0c4",
   "metadata": {},
   "outputs": [],
   "source": []
  },
  {
   "cell_type": "code",
   "execution_count": null,
   "id": "504586cb",
   "metadata": {},
   "outputs": [],
   "source": []
  }
 ],
 "metadata": {
  "kernelspec": {
   "display_name": "Python 3",
   "language": "python",
   "name": "python3"
  },
  "language_info": {
   "codemirror_mode": {
    "name": "ipython",
    "version": 3
   },
   "file_extension": ".py",
   "mimetype": "text/x-python",
   "name": "python",
   "nbconvert_exporter": "python",
   "pygments_lexer": "ipython3",
   "version": "3.8.8"
  }
 },
 "nbformat": 4,
 "nbformat_minor": 5
}
